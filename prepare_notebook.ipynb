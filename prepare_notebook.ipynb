{
 "cells": [
  {
   "cell_type": "code",
   "execution_count": 1,
   "id": "00276223",
   "metadata": {},
   "outputs": [],
   "source": [
    "import pandas as pd\n",
    "import numpy as np\n",
    "pd.set_option('display.max_columns', 50)\n",
    "pd.set_option('display.precision', 3)\n",
    "pd.option_context('display.max_rows', 100)\n",
    "import warnings\n",
    "warnings.filterwarnings('ignore')\n"
   ]
  },
  {
   "cell_type": "code",
   "execution_count": 77,
   "id": "c7c1a79b",
   "metadata": {},
   "outputs": [
    {
     "data": {
      "text/html": [
       "<div>\n",
       "<style scoped>\n",
       "    .dataframe tbody tr th:only-of-type {\n",
       "        vertical-align: middle;\n",
       "    }\n",
       "\n",
       "    .dataframe tbody tr th {\n",
       "        vertical-align: top;\n",
       "    }\n",
       "\n",
       "    .dataframe thead th {\n",
       "        text-align: right;\n",
       "    }\n",
       "</style>\n",
       "<table border=\"1\" class=\"dataframe\">\n",
       "  <thead>\n",
       "    <tr style=\"text-align: right;\">\n",
       "      <th></th>\n",
       "      <th>animal_id</th>\n",
       "      <th>name_intake</th>\n",
       "      <th>datetime_intake</th>\n",
       "      <th>monthyear_intake</th>\n",
       "      <th>found_location</th>\n",
       "      <th>intake_type</th>\n",
       "      <th>intake_condition</th>\n",
       "      <th>animal_type_intake</th>\n",
       "      <th>sex_upon_intake</th>\n",
       "      <th>age_upon_intake</th>\n",
       "      <th>breed_intake</th>\n",
       "      <th>color_intake</th>\n",
       "      <th>n_previous_stays</th>\n",
       "      <th>stay_id</th>\n",
       "    </tr>\n",
       "  </thead>\n",
       "  <tbody>\n",
       "    <tr>\n",
       "      <th>96160</th>\n",
       "      <td>A789898</td>\n",
       "      <td>*Parker</td>\n",
       "      <td>2019-03-01 14:48:00</td>\n",
       "      <td>March 2019</td>\n",
       "      <td>9300 Morin Drive in Travis (TX)</td>\n",
       "      <td>Stray</td>\n",
       "      <td>Injured</td>\n",
       "      <td>Dog</td>\n",
       "      <td>Intact Male</td>\n",
       "      <td>2 months</td>\n",
       "      <td>Labrador Retriever Mix</td>\n",
       "      <td>White/Tan</td>\n",
       "      <td>0</td>\n",
       "      <td>A789898_0</td>\n",
       "    </tr>\n",
       "  </tbody>\n",
       "</table>\n",
       "</div>"
      ],
      "text/plain": [
       "      animal_id name_intake     datetime_intake monthyear_intake  \\\n",
       "96160   A789898     *Parker 2019-03-01 14:48:00       March 2019   \n",
       "\n",
       "                        found_location intake_type intake_condition  \\\n",
       "96160  9300 Morin Drive in Travis (TX)       Stray          Injured   \n",
       "\n",
       "      animal_type_intake sex_upon_intake age_upon_intake  \\\n",
       "96160                Dog     Intact Male        2 months   \n",
       "\n",
       "                 breed_intake color_intake  n_previous_stays    stay_id  \n",
       "96160  Labrador Retriever Mix    White/Tan                 0  A789898_0  "
      ]
     },
     "execution_count": 77,
     "metadata": {},
     "output_type": "execute_result"
    }
   ],
   "source": [
    "intakes[intakes.animal_id == 'A789898']"
   ]
  },
  {
   "cell_type": "code",
   "execution_count": 78,
   "id": "49b1b766",
   "metadata": {},
   "outputs": [
    {
     "data": {
      "text/html": [
       "<div>\n",
       "<style scoped>\n",
       "    .dataframe tbody tr th:only-of-type {\n",
       "        vertical-align: middle;\n",
       "    }\n",
       "\n",
       "    .dataframe tbody tr th {\n",
       "        vertical-align: top;\n",
       "    }\n",
       "\n",
       "    .dataframe thead th {\n",
       "        text-align: right;\n",
       "    }\n",
       "</style>\n",
       "<table border=\"1\" class=\"dataframe\">\n",
       "  <thead>\n",
       "    <tr style=\"text-align: right;\">\n",
       "      <th></th>\n",
       "      <th>animal_id</th>\n",
       "      <th>name_outcome</th>\n",
       "      <th>datetime_outcome</th>\n",
       "      <th>monthyear_outcome</th>\n",
       "      <th>date_of_birth</th>\n",
       "      <th>outcome_type</th>\n",
       "      <th>outcome_subtype</th>\n",
       "      <th>animal_type_outcome</th>\n",
       "      <th>sex_upon_outcome</th>\n",
       "      <th>age_upon_outcome</th>\n",
       "      <th>breed_outcome</th>\n",
       "      <th>color_outcome</th>\n",
       "      <th>n_previous_stays</th>\n",
       "      <th>stay_id</th>\n",
       "    </tr>\n",
       "  </thead>\n",
       "  <tbody>\n",
       "    <tr>\n",
       "      <th>102450</th>\n",
       "      <td>A789898</td>\n",
       "      <td>*Parker</td>\n",
       "      <td>2019-07-03 11:49:00</td>\n",
       "      <td>Jul 2019</td>\n",
       "      <td>12/27/2018</td>\n",
       "      <td>Adoption</td>\n",
       "      <td>Foster</td>\n",
       "      <td>Dog</td>\n",
       "      <td>Neutered Male</td>\n",
       "      <td>6 months</td>\n",
       "      <td>Labrador Retriever Mix</td>\n",
       "      <td>White/Tan</td>\n",
       "      <td>0</td>\n",
       "      <td>A789898_0</td>\n",
       "    </tr>\n",
       "  </tbody>\n",
       "</table>\n",
       "</div>"
      ],
      "text/plain": [
       "       animal_id name_outcome    datetime_outcome monthyear_outcome  \\\n",
       "102450   A789898      *Parker 2019-07-03 11:49:00          Jul 2019   \n",
       "\n",
       "       date_of_birth outcome_type outcome_subtype animal_type_outcome  \\\n",
       "102450    12/27/2018     Adoption          Foster                 Dog   \n",
       "\n",
       "       sex_upon_outcome age_upon_outcome           breed_outcome  \\\n",
       "102450    Neutered Male         6 months  Labrador Retriever Mix   \n",
       "\n",
       "       color_outcome  n_previous_stays    stay_id  \n",
       "102450     White/Tan                 0  A789898_0  "
      ]
     },
     "execution_count": 78,
     "metadata": {},
     "output_type": "execute_result"
    }
   ],
   "source": [
    "outcomes[outcomes.animal_id == 'A789898']"
   ]
  },
  {
   "cell_type": "code",
   "execution_count": 118,
   "id": "1d8282a9",
   "metadata": {},
   "outputs": [],
   "source": [
    "a_good_boy_named_sue_intake = intakes[intakes.animal_id == 'A789898'][['animal_id', 'intake_type', 'intake_condition', 'monthyear_intake', 'age_upon_intake', 'breed_intake', 'found_location']]\n",
    "a_good_boy_named_sue_outcome = outcomes[outcomes.animal_id == 'A789898'][['animal_id', 'outcome_type', 'outcome_subtype', 'monthyear_outcome', 'age_upon_outcome', 'breed_outcome', 'color_outcome']]"
   ]
  },
  {
   "cell_type": "code",
   "execution_count": 119,
   "id": "23bf17ac",
   "metadata": {},
   "outputs": [
    {
     "data": {
      "text/html": [
       "<div>\n",
       "<style scoped>\n",
       "    .dataframe tbody tr th:only-of-type {\n",
       "        vertical-align: middle;\n",
       "    }\n",
       "\n",
       "    .dataframe tbody tr th {\n",
       "        vertical-align: top;\n",
       "    }\n",
       "\n",
       "    .dataframe thead th {\n",
       "        text-align: right;\n",
       "    }\n",
       "</style>\n",
       "<table border=\"1\" class=\"dataframe\">\n",
       "  <thead>\n",
       "    <tr style=\"text-align: right;\">\n",
       "      <th></th>\n",
       "      <th>animal_id</th>\n",
       "      <th>intake_type</th>\n",
       "      <th>intake_condition</th>\n",
       "      <th>monthyear_intake</th>\n",
       "      <th>age_upon_intake</th>\n",
       "      <th>breed_intake</th>\n",
       "      <th>found_location</th>\n",
       "    </tr>\n",
       "  </thead>\n",
       "  <tbody>\n",
       "    <tr>\n",
       "      <th>96160</th>\n",
       "      <td>A789898</td>\n",
       "      <td>Stray</td>\n",
       "      <td>Injured</td>\n",
       "      <td>March 2019</td>\n",
       "      <td>2 months</td>\n",
       "      <td>Labrador Retriever Mix</td>\n",
       "      <td>9300 Morin Drive in Travis (TX)</td>\n",
       "    </tr>\n",
       "  </tbody>\n",
       "</table>\n",
       "</div>"
      ],
      "text/plain": [
       "      animal_id intake_type intake_condition monthyear_intake age_upon_intake  \\\n",
       "96160   A789898       Stray          Injured       March 2019        2 months   \n",
       "\n",
       "                 breed_intake                   found_location  \n",
       "96160  Labrador Retriever Mix  9300 Morin Drive in Travis (TX)  "
      ]
     },
     "execution_count": 119,
     "metadata": {},
     "output_type": "execute_result"
    }
   ],
   "source": [
    "a_good_boy_named_sue_intake"
   ]
  },
  {
   "cell_type": "code",
   "execution_count": 120,
   "id": "6f703fac",
   "metadata": {},
   "outputs": [
    {
     "data": {
      "text/html": [
       "<div>\n",
       "<style scoped>\n",
       "    .dataframe tbody tr th:only-of-type {\n",
       "        vertical-align: middle;\n",
       "    }\n",
       "\n",
       "    .dataframe tbody tr th {\n",
       "        vertical-align: top;\n",
       "    }\n",
       "\n",
       "    .dataframe thead th {\n",
       "        text-align: right;\n",
       "    }\n",
       "</style>\n",
       "<table border=\"1\" class=\"dataframe\">\n",
       "  <thead>\n",
       "    <tr style=\"text-align: right;\">\n",
       "      <th></th>\n",
       "      <th>animal_id</th>\n",
       "      <th>outcome_type</th>\n",
       "      <th>outcome_subtype</th>\n",
       "      <th>monthyear_outcome</th>\n",
       "      <th>age_upon_outcome</th>\n",
       "      <th>breed_outcome</th>\n",
       "      <th>color_outcome</th>\n",
       "    </tr>\n",
       "  </thead>\n",
       "  <tbody>\n",
       "    <tr>\n",
       "      <th>102450</th>\n",
       "      <td>A789898</td>\n",
       "      <td>Adoption</td>\n",
       "      <td>Foster</td>\n",
       "      <td>Jul 2019</td>\n",
       "      <td>6 months</td>\n",
       "      <td>Labrador Retriever Mix</td>\n",
       "      <td>White/Tan</td>\n",
       "    </tr>\n",
       "  </tbody>\n",
       "</table>\n",
       "</div>"
      ],
      "text/plain": [
       "       animal_id outcome_type outcome_subtype monthyear_outcome  \\\n",
       "102450   A789898     Adoption          Foster          Jul 2019   \n",
       "\n",
       "       age_upon_outcome           breed_outcome color_outcome  \n",
       "102450         6 months  Labrador Retriever Mix     White/Tan  "
      ]
     },
     "execution_count": 120,
     "metadata": {},
     "output_type": "execute_result"
    }
   ],
   "source": [
    "a_good_boy_named_sue_outcome"
   ]
  },
  {
   "cell_type": "markdown",
   "id": "4e634cfb",
   "metadata": {},
   "source": [
    "#### Get the data:"
   ]
  },
  {
   "cell_type": "code",
   "execution_count": 2,
   "id": "d53ba350",
   "metadata": {},
   "outputs": [],
   "source": [
    "# get the data\n",
    "\n",
    "intakes = pd.read_csv('aac_intakes_20220304.csv')\n",
    "outcomes = pd.read_csv('aac_outcomes_20220304.csv')"
   ]
  },
  {
   "cell_type": "markdown",
   "id": "bd4f9ebf",
   "metadata": {},
   "source": [
    "#### Rename Columns:"
   ]
  },
  {
   "cell_type": "code",
   "execution_count": 3,
   "id": "210cf16d",
   "metadata": {},
   "outputs": [],
   "source": [
    "# rename columns\n",
    "\n",
    "for col in intakes.columns:\n",
    "    intakes = intakes.rename(columns={col: f'{col.lower().replace(\" \", \"_\")}'})\n",
    "    \n",
    "for col in outcomes.columns:\n",
    "    outcomes = outcomes.rename(columns={col: f'{col.lower().replace(\" \", \"_\")}'})\n",
    "    \n",
    "cols = ['name', 'datetime', 'monthyear', 'animal_type', 'breed', 'color']\n",
    "for col in cols:\n",
    "    intakes = intakes.rename(columns={col: col+'_intake'})\n",
    "    outcomes = outcomes.rename(columns={col: col+'_outcome'})\n"
   ]
  },
  {
   "cell_type": "code",
   "execution_count": null,
   "id": "6428f272",
   "metadata": {},
   "outputs": [],
   "source": []
  },
  {
   "cell_type": "code",
   "execution_count": 4,
   "id": "831554a9",
   "metadata": {},
   "outputs": [
    {
     "data": {
      "text/html": [
       "<div>\n",
       "<style scoped>\n",
       "    .dataframe tbody tr th:only-of-type {\n",
       "        vertical-align: middle;\n",
       "    }\n",
       "\n",
       "    .dataframe tbody tr th {\n",
       "        vertical-align: top;\n",
       "    }\n",
       "\n",
       "    .dataframe thead th {\n",
       "        text-align: right;\n",
       "    }\n",
       "</style>\n",
       "<table border=\"1\" class=\"dataframe\">\n",
       "  <thead>\n",
       "    <tr style=\"text-align: right;\">\n",
       "      <th></th>\n",
       "      <th>animal_id</th>\n",
       "      <th>name_intake</th>\n",
       "      <th>datetime_intake</th>\n",
       "      <th>monthyear_intake</th>\n",
       "      <th>found_location</th>\n",
       "      <th>intake_type</th>\n",
       "      <th>intake_condition</th>\n",
       "      <th>animal_type_intake</th>\n",
       "      <th>sex_upon_intake</th>\n",
       "      <th>age_upon_intake</th>\n",
       "      <th>breed_intake</th>\n",
       "      <th>color_intake</th>\n",
       "    </tr>\n",
       "  </thead>\n",
       "  <tbody>\n",
       "    <tr>\n",
       "      <th>0</th>\n",
       "      <td>A786884</td>\n",
       "      <td>*Brock</td>\n",
       "      <td>01/03/2019 04:19:00 PM</td>\n",
       "      <td>January 2019</td>\n",
       "      <td>2501 Magin Meadow Dr in Austin (TX)</td>\n",
       "      <td>Stray</td>\n",
       "      <td>Normal</td>\n",
       "      <td>Dog</td>\n",
       "      <td>Neutered Male</td>\n",
       "      <td>2 years</td>\n",
       "      <td>Beagle Mix</td>\n",
       "      <td>Tricolor</td>\n",
       "    </tr>\n",
       "    <tr>\n",
       "      <th>1</th>\n",
       "      <td>A706918</td>\n",
       "      <td>Belle</td>\n",
       "      <td>07/05/2015 12:59:00 PM</td>\n",
       "      <td>July 2015</td>\n",
       "      <td>9409 Bluegrass Dr in Austin (TX)</td>\n",
       "      <td>Stray</td>\n",
       "      <td>Normal</td>\n",
       "      <td>Dog</td>\n",
       "      <td>Spayed Female</td>\n",
       "      <td>8 years</td>\n",
       "      <td>English Springer Spaniel</td>\n",
       "      <td>White/Liver</td>\n",
       "    </tr>\n",
       "  </tbody>\n",
       "</table>\n",
       "</div>"
      ],
      "text/plain": [
       "  animal_id name_intake         datetime_intake monthyear_intake  \\\n",
       "0   A786884      *Brock  01/03/2019 04:19:00 PM     January 2019   \n",
       "1   A706918       Belle  07/05/2015 12:59:00 PM        July 2015   \n",
       "\n",
       "                        found_location intake_type intake_condition  \\\n",
       "0  2501 Magin Meadow Dr in Austin (TX)       Stray           Normal   \n",
       "1     9409 Bluegrass Dr in Austin (TX)       Stray           Normal   \n",
       "\n",
       "  animal_type_intake sex_upon_intake age_upon_intake  \\\n",
       "0                Dog   Neutered Male         2 years   \n",
       "1                Dog   Spayed Female         8 years   \n",
       "\n",
       "               breed_intake color_intake  \n",
       "0                Beagle Mix     Tricolor  \n",
       "1  English Springer Spaniel  White/Liver  "
      ]
     },
     "execution_count": 4,
     "metadata": {},
     "output_type": "execute_result"
    }
   ],
   "source": [
    "intakes.head(2)"
   ]
  },
  {
   "cell_type": "code",
   "execution_count": 5,
   "id": "902c9541",
   "metadata": {},
   "outputs": [
    {
     "data": {
      "text/html": [
       "<div>\n",
       "<style scoped>\n",
       "    .dataframe tbody tr th:only-of-type {\n",
       "        vertical-align: middle;\n",
       "    }\n",
       "\n",
       "    .dataframe tbody tr th {\n",
       "        vertical-align: top;\n",
       "    }\n",
       "\n",
       "    .dataframe thead th {\n",
       "        text-align: right;\n",
       "    }\n",
       "</style>\n",
       "<table border=\"1\" class=\"dataframe\">\n",
       "  <thead>\n",
       "    <tr style=\"text-align: right;\">\n",
       "      <th></th>\n",
       "      <th>animal_id</th>\n",
       "      <th>name_outcome</th>\n",
       "      <th>datetime_outcome</th>\n",
       "      <th>monthyear_outcome</th>\n",
       "      <th>date_of_birth</th>\n",
       "      <th>outcome_type</th>\n",
       "      <th>outcome_subtype</th>\n",
       "      <th>animal_type_outcome</th>\n",
       "      <th>sex_upon_outcome</th>\n",
       "      <th>age_upon_outcome</th>\n",
       "      <th>breed_outcome</th>\n",
       "      <th>color_outcome</th>\n",
       "    </tr>\n",
       "  </thead>\n",
       "  <tbody>\n",
       "    <tr>\n",
       "      <th>0</th>\n",
       "      <td>A794011</td>\n",
       "      <td>Chunk</td>\n",
       "      <td>05/08/2019 06:20:00 PM</td>\n",
       "      <td>May 2019</td>\n",
       "      <td>05/02/2017</td>\n",
       "      <td>Rto-Adopt</td>\n",
       "      <td>NaN</td>\n",
       "      <td>Cat</td>\n",
       "      <td>Neutered Male</td>\n",
       "      <td>2 years</td>\n",
       "      <td>Domestic Shorthair Mix</td>\n",
       "      <td>Brown Tabby/White</td>\n",
       "    </tr>\n",
       "    <tr>\n",
       "      <th>1</th>\n",
       "      <td>A776359</td>\n",
       "      <td>Gizmo</td>\n",
       "      <td>07/18/2018 04:02:00 PM</td>\n",
       "      <td>Jul 2018</td>\n",
       "      <td>07/12/2017</td>\n",
       "      <td>Adoption</td>\n",
       "      <td>NaN</td>\n",
       "      <td>Dog</td>\n",
       "      <td>Neutered Male</td>\n",
       "      <td>1 year</td>\n",
       "      <td>Chihuahua Shorthair Mix</td>\n",
       "      <td>White/Brown</td>\n",
       "    </tr>\n",
       "  </tbody>\n",
       "</table>\n",
       "</div>"
      ],
      "text/plain": [
       "  animal_id name_outcome        datetime_outcome monthyear_outcome  \\\n",
       "0   A794011        Chunk  05/08/2019 06:20:00 PM          May 2019   \n",
       "1   A776359        Gizmo  07/18/2018 04:02:00 PM          Jul 2018   \n",
       "\n",
       "  date_of_birth outcome_type outcome_subtype animal_type_outcome  \\\n",
       "0    05/02/2017    Rto-Adopt             NaN                 Cat   \n",
       "1    07/12/2017     Adoption             NaN                 Dog   \n",
       "\n",
       "  sex_upon_outcome age_upon_outcome            breed_outcome  \\\n",
       "0    Neutered Male          2 years   Domestic Shorthair Mix   \n",
       "1    Neutered Male           1 year  Chihuahua Shorthair Mix   \n",
       "\n",
       "       color_outcome  \n",
       "0  Brown Tabby/White  \n",
       "1        White/Brown  "
      ]
     },
     "execution_count": 5,
     "metadata": {},
     "output_type": "execute_result"
    }
   ],
   "source": [
    "outcomes.head(2)"
   ]
  },
  {
   "cell_type": "markdown",
   "id": "4cce3695",
   "metadata": {},
   "source": [
    "### Exploring Location"
   ]
  },
  {
   "cell_type": "markdown",
   "id": "fc07bb2b",
   "metadata": {},
   "source": [
    "Percentage of entries where location includes 'TX'"
   ]
  },
  {
   "cell_type": "code",
   "execution_count": 6,
   "id": "aa3a2d43",
   "metadata": {},
   "outputs": [
    {
     "data": {
      "text/plain": [
       "0.9876352960079461"
      ]
     },
     "execution_count": 6,
     "metadata": {},
     "output_type": "execute_result"
    }
   ],
   "source": [
    "intakes.found_location.str.contains('TX').mean()"
   ]
  },
  {
   "cell_type": "markdown",
   "id": "bb6c2d65",
   "metadata": {},
   "source": [
    "unique entries that don't include 'TX'"
   ]
  },
  {
   "cell_type": "code",
   "execution_count": 7,
   "id": "5e134e35",
   "metadata": {},
   "outputs": [
    {
     "data": {
      "text/plain": [
       "array(['Outside Jurisdiction'], dtype=object)"
      ]
     },
     "execution_count": 7,
     "metadata": {},
     "output_type": "execute_result"
    }
   ],
   "source": [
    "intakes[~intakes.found_location.str.contains('TX')].found_location.unique()"
   ]
  },
  {
   "cell_type": "markdown",
   "id": "29ecf121",
   "metadata": {},
   "source": [
    "Percentage of entries where location includes 'Austin'"
   ]
  },
  {
   "cell_type": "code",
   "execution_count": 8,
   "id": "2a96fa42",
   "metadata": {},
   "outputs": [
    {
     "data": {
      "text/plain": [
       "0.8275368457954164"
      ]
     },
     "execution_count": 8,
     "metadata": {},
     "output_type": "execute_result"
    }
   ],
   "source": [
    "intakes.found_location.str.contains('Austin').mean()"
   ]
  },
  {
   "cell_type": "markdown",
   "id": "97162370",
   "metadata": {},
   "source": [
    "Number of unique entries that don't include 'Austin'"
   ]
  },
  {
   "cell_type": "code",
   "execution_count": 9,
   "id": "6ec1583f",
   "metadata": {},
   "outputs": [
    {
     "data": {
      "text/plain": [
       "9933"
      ]
     },
     "execution_count": 9,
     "metadata": {},
     "output_type": "execute_result"
    }
   ],
   "source": [
    "intakes[~intakes.found_location.str.contains('Austin')].found_location.nunique()"
   ]
  },
  {
   "cell_type": "code",
   "execution_count": 10,
   "id": "5a5e5a01",
   "metadata": {},
   "outputs": [
    {
     "data": {
      "text/plain": [
       "0.18764698149311287"
      ]
     },
     "execution_count": 10,
     "metadata": {},
     "output_type": "execute_result"
    }
   ],
   "source": [
    "(intakes.found_location == 'Austin (TX)').mean()"
   ]
  },
  {
   "cell_type": "code",
   "execution_count": 11,
   "id": "fea6bc51",
   "metadata": {},
   "outputs": [
    {
     "data": {
      "text/plain": [
       "0.018017557441463022"
      ]
     },
     "execution_count": 11,
     "metadata": {},
     "output_type": "execute_result"
    }
   ],
   "source": [
    "(intakes.found_location == 'Travis (TX)').mean()"
   ]
  },
  {
   "cell_type": "code",
   "execution_count": 12,
   "id": "21580a52",
   "metadata": {},
   "outputs": [
    {
     "data": {
      "text/plain": [
       "0.8274126875155198"
      ]
     },
     "execution_count": 12,
     "metadata": {},
     "output_type": "execute_result"
    }
   ],
   "source": [
    "intakes.found_location.str.contains('Austin (TX)', regex=False).mean()"
   ]
  },
  {
   "cell_type": "code",
   "execution_count": 13,
   "id": "88aedf5d",
   "metadata": {},
   "outputs": [
    {
     "data": {
      "text/plain": [
       "0         Austin\n",
       "1         Austin\n",
       "2         Austin\n",
       "3         Austin\n",
       "4         Austin\n",
       "           ...  \n",
       "136917    Austin\n",
       "136918    Austin\n",
       "136919    Austin\n",
       "136920    Austin\n",
       "136921     Manor\n",
       "Name: found_location, Length: 136922, dtype: object"
      ]
     },
     "execution_count": 13,
     "metadata": {},
     "output_type": "execute_result"
    }
   ],
   "source": [
    "intakes.found_location.str.split().str[-2]"
   ]
  },
  {
   "cell_type": "code",
   "execution_count": null,
   "id": "290f28f9",
   "metadata": {},
   "outputs": [],
   "source": []
  },
  {
   "cell_type": "code",
   "execution_count": 14,
   "id": "a51b07ca",
   "metadata": {},
   "outputs": [
    {
     "data": {
      "text/html": [
       "<div>\n",
       "<style scoped>\n",
       "    .dataframe tbody tr th:only-of-type {\n",
       "        vertical-align: middle;\n",
       "    }\n",
       "\n",
       "    .dataframe tbody tr th {\n",
       "        vertical-align: top;\n",
       "    }\n",
       "\n",
       "    .dataframe thead th {\n",
       "        text-align: right;\n",
       "    }\n",
       "</style>\n",
       "<table border=\"1\" class=\"dataframe\">\n",
       "  <thead>\n",
       "    <tr style=\"text-align: right;\">\n",
       "      <th></th>\n",
       "      <th>animal_id</th>\n",
       "      <th>name_intake</th>\n",
       "      <th>datetime_intake</th>\n",
       "      <th>monthyear_intake</th>\n",
       "      <th>found_location</th>\n",
       "      <th>intake_type</th>\n",
       "      <th>intake_condition</th>\n",
       "      <th>animal_type_intake</th>\n",
       "      <th>sex_upon_intake</th>\n",
       "      <th>age_upon_intake</th>\n",
       "      <th>breed_intake</th>\n",
       "      <th>color_intake</th>\n",
       "    </tr>\n",
       "  </thead>\n",
       "  <tbody>\n",
       "    <tr>\n",
       "      <th>0</th>\n",
       "      <td>A786884</td>\n",
       "      <td>*Brock</td>\n",
       "      <td>01/03/2019 04:19:00 PM</td>\n",
       "      <td>January 2019</td>\n",
       "      <td>2501 Magin Meadow Dr in Austin (TX)</td>\n",
       "      <td>Stray</td>\n",
       "      <td>Normal</td>\n",
       "      <td>Dog</td>\n",
       "      <td>Neutered Male</td>\n",
       "      <td>2 years</td>\n",
       "      <td>Beagle Mix</td>\n",
       "      <td>Tricolor</td>\n",
       "    </tr>\n",
       "    <tr>\n",
       "      <th>1</th>\n",
       "      <td>A706918</td>\n",
       "      <td>Belle</td>\n",
       "      <td>07/05/2015 12:59:00 PM</td>\n",
       "      <td>July 2015</td>\n",
       "      <td>9409 Bluegrass Dr in Austin (TX)</td>\n",
       "      <td>Stray</td>\n",
       "      <td>Normal</td>\n",
       "      <td>Dog</td>\n",
       "      <td>Spayed Female</td>\n",
       "      <td>8 years</td>\n",
       "      <td>English Springer Spaniel</td>\n",
       "      <td>White/Liver</td>\n",
       "    </tr>\n",
       "    <tr>\n",
       "      <th>2</th>\n",
       "      <td>A724273</td>\n",
       "      <td>Runster</td>\n",
       "      <td>04/14/2016 06:43:00 PM</td>\n",
       "      <td>April 2016</td>\n",
       "      <td>2818 Palomino Trail in Austin (TX)</td>\n",
       "      <td>Stray</td>\n",
       "      <td>Normal</td>\n",
       "      <td>Dog</td>\n",
       "      <td>Intact Male</td>\n",
       "      <td>11 months</td>\n",
       "      <td>Basenji Mix</td>\n",
       "      <td>Sable/White</td>\n",
       "    </tr>\n",
       "    <tr>\n",
       "      <th>3</th>\n",
       "      <td>A665644</td>\n",
       "      <td>NaN</td>\n",
       "      <td>10/21/2013 07:59:00 AM</td>\n",
       "      <td>October 2013</td>\n",
       "      <td>Austin (TX)</td>\n",
       "      <td>Stray</td>\n",
       "      <td>Sick</td>\n",
       "      <td>Cat</td>\n",
       "      <td>Intact Female</td>\n",
       "      <td>4 weeks</td>\n",
       "      <td>Domestic Shorthair Mix</td>\n",
       "      <td>Calico</td>\n",
       "    </tr>\n",
       "    <tr>\n",
       "      <th>4</th>\n",
       "      <td>A682524</td>\n",
       "      <td>Rio</td>\n",
       "      <td>06/29/2014 10:38:00 AM</td>\n",
       "      <td>June 2014</td>\n",
       "      <td>800 Grove Blvd in Austin (TX)</td>\n",
       "      <td>Stray</td>\n",
       "      <td>Normal</td>\n",
       "      <td>Dog</td>\n",
       "      <td>Neutered Male</td>\n",
       "      <td>4 years</td>\n",
       "      <td>Doberman Pinsch/Australian Cattle Dog</td>\n",
       "      <td>Tan/Gray</td>\n",
       "    </tr>\n",
       "    <tr>\n",
       "      <th>...</th>\n",
       "      <td>...</td>\n",
       "      <td>...</td>\n",
       "      <td>...</td>\n",
       "      <td>...</td>\n",
       "      <td>...</td>\n",
       "      <td>...</td>\n",
       "      <td>...</td>\n",
       "      <td>...</td>\n",
       "      <td>...</td>\n",
       "      <td>...</td>\n",
       "      <td>...</td>\n",
       "      <td>...</td>\n",
       "    </tr>\n",
       "    <tr>\n",
       "      <th>136917</th>\n",
       "      <td>A852514</td>\n",
       "      <td>NaN</td>\n",
       "      <td>03/04/2022 11:03:00 AM</td>\n",
       "      <td>March 2022</td>\n",
       "      <td>5509 Burgundy Dr in Austin (TX)</td>\n",
       "      <td>Stray</td>\n",
       "      <td>Injured</td>\n",
       "      <td>Cat</td>\n",
       "      <td>Unknown</td>\n",
       "      <td>2 years</td>\n",
       "      <td>Domestic Shorthair</td>\n",
       "      <td>Brown Tabby</td>\n",
       "    </tr>\n",
       "    <tr>\n",
       "      <th>136918</th>\n",
       "      <td>A852493</td>\n",
       "      <td>A852493</td>\n",
       "      <td>03/03/2022 05:49:00 PM</td>\n",
       "      <td>March 2022</td>\n",
       "      <td>1300 South Pleasant Valley in Austin (TX)</td>\n",
       "      <td>Stray</td>\n",
       "      <td>Normal</td>\n",
       "      <td>Dog</td>\n",
       "      <td>Intact Male</td>\n",
       "      <td>11 months</td>\n",
       "      <td>Labrador Retriever</td>\n",
       "      <td>Red/Brown</td>\n",
       "    </tr>\n",
       "    <tr>\n",
       "      <th>136919</th>\n",
       "      <td>A852516</td>\n",
       "      <td>Charlie</td>\n",
       "      <td>03/04/2022 10:47:00 AM</td>\n",
       "      <td>March 2022</td>\n",
       "      <td>Austin (TX)</td>\n",
       "      <td>Owner Surrender</td>\n",
       "      <td>Normal</td>\n",
       "      <td>Dog</td>\n",
       "      <td>Unknown</td>\n",
       "      <td>6 months</td>\n",
       "      <td>Australian Cattle Dog Mix</td>\n",
       "      <td>Liver Tick/Brown</td>\n",
       "    </tr>\n",
       "    <tr>\n",
       "      <th>136920</th>\n",
       "      <td>A852517</td>\n",
       "      <td>A852517</td>\n",
       "      <td>03/04/2022 11:25:00 AM</td>\n",
       "      <td>March 2022</td>\n",
       "      <td>13377 Pond Springs Road in Austin (TX)</td>\n",
       "      <td>Wildlife</td>\n",
       "      <td>Sick</td>\n",
       "      <td>Other</td>\n",
       "      <td>Unknown</td>\n",
       "      <td>2 years</td>\n",
       "      <td>Raccoon</td>\n",
       "      <td>Brown/Black</td>\n",
       "    </tr>\n",
       "    <tr>\n",
       "      <th>136921</th>\n",
       "      <td>A842487</td>\n",
       "      <td>Toby</td>\n",
       "      <td>09/16/2021 03:01:00 PM</td>\n",
       "      <td>September 2021</td>\n",
       "      <td>Jones Road in Manor (TX)</td>\n",
       "      <td>Stray</td>\n",
       "      <td>Normal</td>\n",
       "      <td>Dog</td>\n",
       "      <td>Intact Male</td>\n",
       "      <td>3 months</td>\n",
       "      <td>Miniature Pinscher Mix</td>\n",
       "      <td>Black/White</td>\n",
       "    </tr>\n",
       "  </tbody>\n",
       "</table>\n",
       "<p>136922 rows × 12 columns</p>\n",
       "</div>"
      ],
      "text/plain": [
       "       animal_id name_intake         datetime_intake monthyear_intake  \\\n",
       "0        A786884      *Brock  01/03/2019 04:19:00 PM     January 2019   \n",
       "1        A706918       Belle  07/05/2015 12:59:00 PM        July 2015   \n",
       "2        A724273     Runster  04/14/2016 06:43:00 PM       April 2016   \n",
       "3        A665644         NaN  10/21/2013 07:59:00 AM     October 2013   \n",
       "4        A682524         Rio  06/29/2014 10:38:00 AM        June 2014   \n",
       "...          ...         ...                     ...              ...   \n",
       "136917   A852514         NaN  03/04/2022 11:03:00 AM       March 2022   \n",
       "136918   A852493     A852493  03/03/2022 05:49:00 PM       March 2022   \n",
       "136919   A852516     Charlie  03/04/2022 10:47:00 AM       March 2022   \n",
       "136920   A852517     A852517  03/04/2022 11:25:00 AM       March 2022   \n",
       "136921   A842487        Toby  09/16/2021 03:01:00 PM   September 2021   \n",
       "\n",
       "                                   found_location      intake_type  \\\n",
       "0             2501 Magin Meadow Dr in Austin (TX)            Stray   \n",
       "1                9409 Bluegrass Dr in Austin (TX)            Stray   \n",
       "2              2818 Palomino Trail in Austin (TX)            Stray   \n",
       "3                                     Austin (TX)            Stray   \n",
       "4                   800 Grove Blvd in Austin (TX)            Stray   \n",
       "...                                           ...              ...   \n",
       "136917            5509 Burgundy Dr in Austin (TX)            Stray   \n",
       "136918  1300 South Pleasant Valley in Austin (TX)            Stray   \n",
       "136919                                Austin (TX)  Owner Surrender   \n",
       "136920     13377 Pond Springs Road in Austin (TX)         Wildlife   \n",
       "136921                   Jones Road in Manor (TX)            Stray   \n",
       "\n",
       "       intake_condition animal_type_intake sex_upon_intake age_upon_intake  \\\n",
       "0                Normal                Dog   Neutered Male         2 years   \n",
       "1                Normal                Dog   Spayed Female         8 years   \n",
       "2                Normal                Dog     Intact Male       11 months   \n",
       "3                  Sick                Cat   Intact Female         4 weeks   \n",
       "4                Normal                Dog   Neutered Male         4 years   \n",
       "...                 ...                ...             ...             ...   \n",
       "136917          Injured                Cat         Unknown         2 years   \n",
       "136918           Normal                Dog     Intact Male       11 months   \n",
       "136919           Normal                Dog         Unknown        6 months   \n",
       "136920             Sick              Other         Unknown         2 years   \n",
       "136921           Normal                Dog     Intact Male        3 months   \n",
       "\n",
       "                                 breed_intake      color_intake  \n",
       "0                                  Beagle Mix          Tricolor  \n",
       "1                    English Springer Spaniel       White/Liver  \n",
       "2                                 Basenji Mix       Sable/White  \n",
       "3                      Domestic Shorthair Mix            Calico  \n",
       "4       Doberman Pinsch/Australian Cattle Dog          Tan/Gray  \n",
       "...                                       ...               ...  \n",
       "136917                     Domestic Shorthair       Brown Tabby  \n",
       "136918                     Labrador Retriever         Red/Brown  \n",
       "136919              Australian Cattle Dog Mix  Liver Tick/Brown  \n",
       "136920                                Raccoon       Brown/Black  \n",
       "136921                 Miniature Pinscher Mix       Black/White  \n",
       "\n",
       "[136922 rows x 12 columns]"
      ]
     },
     "execution_count": 14,
     "metadata": {},
     "output_type": "execute_result"
    }
   ],
   "source": [
    "intakes"
   ]
  },
  {
   "cell_type": "markdown",
   "id": "0d83c8ce",
   "metadata": {},
   "source": [
    "#### Consider:  \n",
    "Why are there more entries in each table than there are unique entries for animal_id? Perhaps that represents when the same animal has been seen more than once. "
   ]
  },
  {
   "cell_type": "code",
   "execution_count": 15,
   "id": "0db153d2",
   "metadata": {},
   "outputs": [
    {
     "data": {
      "text/plain": [
       "137221"
      ]
     },
     "execution_count": 15,
     "metadata": {},
     "output_type": "execute_result"
    }
   ],
   "source": [
    "len(outcomes)"
   ]
  },
  {
   "cell_type": "code",
   "execution_count": 16,
   "id": "a2751e0d",
   "metadata": {},
   "outputs": [
    {
     "data": {
      "text/plain": [
       "122702"
      ]
     },
     "execution_count": 16,
     "metadata": {},
     "output_type": "execute_result"
    }
   ],
   "source": [
    "outcomes.animal_id.nunique()"
   ]
  },
  {
   "cell_type": "code",
   "execution_count": 17,
   "id": "b790e098",
   "metadata": {},
   "outputs": [
    {
     "data": {
      "text/plain": [
       "136922"
      ]
     },
     "execution_count": 17,
     "metadata": {},
     "output_type": "execute_result"
    }
   ],
   "source": [
    "len(intakes)"
   ]
  },
  {
   "cell_type": "code",
   "execution_count": 18,
   "id": "3d6b3714",
   "metadata": {},
   "outputs": [
    {
     "data": {
      "text/plain": [
       "122390"
      ]
     },
     "execution_count": 18,
     "metadata": {},
     "output_type": "execute_result"
    }
   ],
   "source": [
    "intakes.animal_id.nunique()"
   ]
  },
  {
   "cell_type": "markdown",
   "id": "678e86e7",
   "metadata": {},
   "source": [
    "#### Consider:\n",
    "Why are there more outcomes than intakes?"
   ]
  },
  {
   "cell_type": "code",
   "execution_count": 19,
   "id": "4ca573b2",
   "metadata": {},
   "outputs": [
    {
     "data": {
      "text/plain": [
       "136922"
      ]
     },
     "execution_count": 19,
     "metadata": {},
     "output_type": "execute_result"
    }
   ],
   "source": [
    "len(intakes)"
   ]
  },
  {
   "cell_type": "code",
   "execution_count": 20,
   "id": "86b10604",
   "metadata": {},
   "outputs": [
    {
     "data": {
      "text/plain": [
       "137221"
      ]
     },
     "execution_count": 20,
     "metadata": {},
     "output_type": "execute_result"
    }
   ],
   "source": [
    "len(outcomes)"
   ]
  },
  {
   "cell_type": "code",
   "execution_count": 21,
   "id": "549aef1b",
   "metadata": {},
   "outputs": [
    {
     "data": {
      "text/plain": [
       "299"
      ]
     },
     "execution_count": 21,
     "metadata": {},
     "output_type": "execute_result"
    }
   ],
   "source": [
    "len(outcomes) - len(intakes)"
   ]
  },
  {
   "cell_type": "markdown",
   "id": "c2e7c35d",
   "metadata": {},
   "source": [
    "Let's take a look at instances where an animal_id is represented in outcomes but not intakes"
   ]
  },
  {
   "cell_type": "code",
   "execution_count": 22,
   "id": "dfaad0c5",
   "metadata": {},
   "outputs": [
    {
     "data": {
      "text/html": [
       "<div>\n",
       "<style scoped>\n",
       "    .dataframe tbody tr th:only-of-type {\n",
       "        vertical-align: middle;\n",
       "    }\n",
       "\n",
       "    .dataframe tbody tr th {\n",
       "        vertical-align: top;\n",
       "    }\n",
       "\n",
       "    .dataframe thead th {\n",
       "        text-align: right;\n",
       "    }\n",
       "</style>\n",
       "<table border=\"1\" class=\"dataframe\">\n",
       "  <thead>\n",
       "    <tr style=\"text-align: right;\">\n",
       "      <th></th>\n",
       "      <th>animal_id</th>\n",
       "      <th>name_outcome</th>\n",
       "      <th>datetime_outcome</th>\n",
       "      <th>monthyear_outcome</th>\n",
       "      <th>date_of_birth</th>\n",
       "      <th>outcome_type</th>\n",
       "      <th>outcome_subtype</th>\n",
       "      <th>animal_type_outcome</th>\n",
       "      <th>sex_upon_outcome</th>\n",
       "      <th>age_upon_outcome</th>\n",
       "      <th>breed_outcome</th>\n",
       "      <th>color_outcome</th>\n",
       "    </tr>\n",
       "  </thead>\n",
       "  <tbody>\n",
       "    <tr>\n",
       "      <th>80</th>\n",
       "      <td>A657197</td>\n",
       "      <td>Gecko</td>\n",
       "      <td>10/09/2013 01:15:00 PM</td>\n",
       "      <td>Oct 2013</td>\n",
       "      <td>05/12/2013</td>\n",
       "      <td>Adoption</td>\n",
       "      <td>NaN</td>\n",
       "      <td>Cat</td>\n",
       "      <td>Neutered Male</td>\n",
       "      <td>4 months</td>\n",
       "      <td>Domestic Shorthair Mix</td>\n",
       "      <td>Brown Tabby</td>\n",
       "    </tr>\n",
       "    <tr>\n",
       "      <th>111</th>\n",
       "      <td>A651995</td>\n",
       "      <td>*Sugar</td>\n",
       "      <td>07/02/2018 03:34:00 PM</td>\n",
       "      <td>Jul 2018</td>\n",
       "      <td>10/18/2011</td>\n",
       "      <td>Adoption</td>\n",
       "      <td>Foster</td>\n",
       "      <td>Dog</td>\n",
       "      <td>Spayed Female</td>\n",
       "      <td>6 years</td>\n",
       "      <td>Staffordshire Mix</td>\n",
       "      <td>Brown/White</td>\n",
       "    </tr>\n",
       "    <tr>\n",
       "      <th>157</th>\n",
       "      <td>A662741</td>\n",
       "      <td>*Todd</td>\n",
       "      <td>10/05/2013 12:42:00 PM</td>\n",
       "      <td>Oct 2013</td>\n",
       "      <td>08/11/2013</td>\n",
       "      <td>Transfer</td>\n",
       "      <td>Partner</td>\n",
       "      <td>Cat</td>\n",
       "      <td>Intact Male</td>\n",
       "      <td>1 month</td>\n",
       "      <td>Domestic Shorthair Mix</td>\n",
       "      <td>Black</td>\n",
       "    </tr>\n",
       "    <tr>\n",
       "      <th>915</th>\n",
       "      <td>A664032</td>\n",
       "      <td>Parker</td>\n",
       "      <td>10/01/2013 05:18:00 PM</td>\n",
       "      <td>Oct 2013</td>\n",
       "      <td>07/27/2013</td>\n",
       "      <td>Adoption</td>\n",
       "      <td>NaN</td>\n",
       "      <td>Dog</td>\n",
       "      <td>Spayed Female</td>\n",
       "      <td>2 months</td>\n",
       "      <td>German Shepherd Mix</td>\n",
       "      <td>Black/Tan</td>\n",
       "    </tr>\n",
       "    <tr>\n",
       "      <th>943</th>\n",
       "      <td>A662086</td>\n",
       "      <td>*Hanna</td>\n",
       "      <td>10/12/2013 04:01:00 PM</td>\n",
       "      <td>Oct 2013</td>\n",
       "      <td>08/29/2011</td>\n",
       "      <td>Adoption</td>\n",
       "      <td>NaN</td>\n",
       "      <td>Dog</td>\n",
       "      <td>Spayed Female</td>\n",
       "      <td>2 years</td>\n",
       "      <td>Labrador Retriever/Collie Smooth</td>\n",
       "      <td>Tan/White</td>\n",
       "    </tr>\n",
       "    <tr>\n",
       "      <th>...</th>\n",
       "      <td>...</td>\n",
       "      <td>...</td>\n",
       "      <td>...</td>\n",
       "      <td>...</td>\n",
       "      <td>...</td>\n",
       "      <td>...</td>\n",
       "      <td>...</td>\n",
       "      <td>...</td>\n",
       "      <td>...</td>\n",
       "      <td>...</td>\n",
       "      <td>...</td>\n",
       "      <td>...</td>\n",
       "    </tr>\n",
       "    <tr>\n",
       "      <th>131595</th>\n",
       "      <td>A659501</td>\n",
       "      <td>*Spot</td>\n",
       "      <td>12/12/2013 02:31:00 PM</td>\n",
       "      <td>Dec 2013</td>\n",
       "      <td>05/25/2013</td>\n",
       "      <td>Adoption</td>\n",
       "      <td>Foster</td>\n",
       "      <td>Cat</td>\n",
       "      <td>Neutered Male</td>\n",
       "      <td>6 months</td>\n",
       "      <td>Domestic Shorthair Mix</td>\n",
       "      <td>Orange Tabby/White</td>\n",
       "    </tr>\n",
       "    <tr>\n",
       "      <th>132056</th>\n",
       "      <td>A661336</td>\n",
       "      <td>*Nellie</td>\n",
       "      <td>10/13/2013 05:52:00 PM</td>\n",
       "      <td>Oct 2013</td>\n",
       "      <td>08/19/2012</td>\n",
       "      <td>Adoption</td>\n",
       "      <td>NaN</td>\n",
       "      <td>Dog</td>\n",
       "      <td>Spayed Female</td>\n",
       "      <td>1 year</td>\n",
       "      <td>Anatol Shepherd Mix</td>\n",
       "      <td>Sable/White</td>\n",
       "    </tr>\n",
       "    <tr>\n",
       "      <th>132112</th>\n",
       "      <td>A656250</td>\n",
       "      <td>*Dorothy</td>\n",
       "      <td>12/28/2013 12:01:00 PM</td>\n",
       "      <td>Dec 2013</td>\n",
       "      <td>05/12/2013</td>\n",
       "      <td>Adoption</td>\n",
       "      <td>Foster</td>\n",
       "      <td>Cat</td>\n",
       "      <td>Spayed Female</td>\n",
       "      <td>7 months</td>\n",
       "      <td>Domestic Shorthair Mix</td>\n",
       "      <td>Black/White</td>\n",
       "    </tr>\n",
       "    <tr>\n",
       "      <th>132245</th>\n",
       "      <td>A653240</td>\n",
       "      <td>*Ola</td>\n",
       "      <td>11/15/2013 08:24:00 AM</td>\n",
       "      <td>Nov 2013</td>\n",
       "      <td>05/04/2010</td>\n",
       "      <td>Adoption</td>\n",
       "      <td>Foster</td>\n",
       "      <td>Cat</td>\n",
       "      <td>Spayed Female</td>\n",
       "      <td>3 years</td>\n",
       "      <td>Domestic Medium Hair Mix</td>\n",
       "      <td>Black</td>\n",
       "    </tr>\n",
       "    <tr>\n",
       "      <th>132292</th>\n",
       "      <td>A661250</td>\n",
       "      <td>*Rex</td>\n",
       "      <td>11/14/2013 02:17:00 PM</td>\n",
       "      <td>Nov 2013</td>\n",
       "      <td>02/18/2012</td>\n",
       "      <td>Adoption</td>\n",
       "      <td>NaN</td>\n",
       "      <td>Dog</td>\n",
       "      <td>Neutered Male</td>\n",
       "      <td>1 year</td>\n",
       "      <td>Pit Bull Mix</td>\n",
       "      <td>Black/White</td>\n",
       "    </tr>\n",
       "  </tbody>\n",
       "</table>\n",
       "<p>815 rows × 12 columns</p>\n",
       "</div>"
      ],
      "text/plain": [
       "       animal_id name_outcome        datetime_outcome monthyear_outcome  \\\n",
       "80       A657197        Gecko  10/09/2013 01:15:00 PM          Oct 2013   \n",
       "111      A651995       *Sugar  07/02/2018 03:34:00 PM          Jul 2018   \n",
       "157      A662741        *Todd  10/05/2013 12:42:00 PM          Oct 2013   \n",
       "915      A664032       Parker  10/01/2013 05:18:00 PM          Oct 2013   \n",
       "943      A662086       *Hanna  10/12/2013 04:01:00 PM          Oct 2013   \n",
       "...          ...          ...                     ...               ...   \n",
       "131595   A659501        *Spot  12/12/2013 02:31:00 PM          Dec 2013   \n",
       "132056   A661336      *Nellie  10/13/2013 05:52:00 PM          Oct 2013   \n",
       "132112   A656250     *Dorothy  12/28/2013 12:01:00 PM          Dec 2013   \n",
       "132245   A653240         *Ola  11/15/2013 08:24:00 AM          Nov 2013   \n",
       "132292   A661250         *Rex  11/14/2013 02:17:00 PM          Nov 2013   \n",
       "\n",
       "       date_of_birth outcome_type outcome_subtype animal_type_outcome  \\\n",
       "80        05/12/2013     Adoption             NaN                 Cat   \n",
       "111       10/18/2011     Adoption          Foster                 Dog   \n",
       "157       08/11/2013     Transfer         Partner                 Cat   \n",
       "915       07/27/2013     Adoption             NaN                 Dog   \n",
       "943       08/29/2011     Adoption             NaN                 Dog   \n",
       "...              ...          ...             ...                 ...   \n",
       "131595    05/25/2013     Adoption          Foster                 Cat   \n",
       "132056    08/19/2012     Adoption             NaN                 Dog   \n",
       "132112    05/12/2013     Adoption          Foster                 Cat   \n",
       "132245    05/04/2010     Adoption          Foster                 Cat   \n",
       "132292    02/18/2012     Adoption             NaN                 Dog   \n",
       "\n",
       "       sex_upon_outcome age_upon_outcome                     breed_outcome  \\\n",
       "80        Neutered Male         4 months            Domestic Shorthair Mix   \n",
       "111       Spayed Female          6 years                 Staffordshire Mix   \n",
       "157         Intact Male          1 month            Domestic Shorthair Mix   \n",
       "915       Spayed Female         2 months               German Shepherd Mix   \n",
       "943       Spayed Female          2 years  Labrador Retriever/Collie Smooth   \n",
       "...                 ...              ...                               ...   \n",
       "131595    Neutered Male         6 months            Domestic Shorthair Mix   \n",
       "132056    Spayed Female           1 year               Anatol Shepherd Mix   \n",
       "132112    Spayed Female         7 months            Domestic Shorthair Mix   \n",
       "132245    Spayed Female          3 years          Domestic Medium Hair Mix   \n",
       "132292    Neutered Male           1 year                      Pit Bull Mix   \n",
       "\n",
       "             color_outcome  \n",
       "80             Brown Tabby  \n",
       "111            Brown/White  \n",
       "157                  Black  \n",
       "915              Black/Tan  \n",
       "943              Tan/White  \n",
       "...                    ...  \n",
       "131595  Orange Tabby/White  \n",
       "132056         Sable/White  \n",
       "132112         Black/White  \n",
       "132245               Black  \n",
       "132292         Black/White  \n",
       "\n",
       "[815 rows x 12 columns]"
      ]
     },
     "execution_count": 22,
     "metadata": {},
     "output_type": "execute_result"
    }
   ],
   "source": [
    "outcomes_without_intake = outcomes.loc[~ outcomes.animal_id.isin(intakes.animal_id)]\n",
    "outcomes_without_intake"
   ]
  },
  {
   "cell_type": "markdown",
   "id": "0bc494db",
   "metadata": {},
   "source": [
    "no reason is immediately apparent. For now, we will drop these rows also. \n"
   ]
  },
  {
   "cell_type": "markdown",
   "id": "ecf6e0db",
   "metadata": {},
   "source": [
    "#### drop outcomes that don't have a corresponding intake"
   ]
  },
  {
   "cell_type": "code",
   "execution_count": 23,
   "id": "03875a28",
   "metadata": {},
   "outputs": [],
   "source": [
    "outcomes = outcomes.loc[~ outcomes.animal_id.isin(outcomes_without_intake.animal_id)]"
   ]
  },
  {
   "cell_type": "code",
   "execution_count": 24,
   "id": "abe5a718",
   "metadata": {},
   "outputs": [
    {
     "data": {
      "text/plain": [
       "136922"
      ]
     },
     "execution_count": 24,
     "metadata": {},
     "output_type": "execute_result"
    }
   ],
   "source": [
    "len(intakes)"
   ]
  },
  {
   "cell_type": "code",
   "execution_count": 25,
   "id": "bc474a29",
   "metadata": {},
   "outputs": [
    {
     "data": {
      "text/plain": [
       "136406"
      ]
     },
     "execution_count": 25,
     "metadata": {},
     "output_type": "execute_result"
    }
   ],
   "source": [
    "len(outcomes)"
   ]
  },
  {
   "cell_type": "markdown",
   "id": "1b3e182e",
   "metadata": {},
   "source": [
    "#### Consider:\n",
    "Now we have more intakes than outcomes. Why?"
   ]
  },
  {
   "cell_type": "code",
   "execution_count": 26,
   "id": "0d7af9b6",
   "metadata": {},
   "outputs": [],
   "source": [
    "intakes_without_outcomes = intakes.loc[~ intakes.animal_id.isin(outcomes.animal_id)]"
   ]
  },
  {
   "cell_type": "markdown",
   "id": "aa9f67ec",
   "metadata": {},
   "source": [
    "Again, no reason is immediately apparent, so we will drop the rows for now. "
   ]
  },
  {
   "cell_type": "markdown",
   "id": "7ccffb7f",
   "metadata": {},
   "source": [
    "#### drop the intakes that do not have a corresponding outcome\n"
   ]
  },
  {
   "cell_type": "code",
   "execution_count": 27,
   "id": "435e58b9",
   "metadata": {},
   "outputs": [],
   "source": [
    "intakes = intakes.loc[~ intakes.animal_id.isin(intakes_without_outcomes.animal_id)]"
   ]
  },
  {
   "cell_type": "code",
   "execution_count": 28,
   "id": "71726d05",
   "metadata": {},
   "outputs": [
    {
     "data": {
      "text/plain": [
       "136420"
      ]
     },
     "execution_count": 28,
     "metadata": {},
     "output_type": "execute_result"
    }
   ],
   "source": [
    "len(intakes)"
   ]
  },
  {
   "cell_type": "code",
   "execution_count": 29,
   "id": "8849cd8f",
   "metadata": {},
   "outputs": [
    {
     "data": {
      "text/plain": [
       "136406"
      ]
     },
     "execution_count": 29,
     "metadata": {},
     "output_type": "execute_result"
    }
   ],
   "source": [
    "len(outcomes)"
   ]
  },
  {
   "cell_type": "markdown",
   "id": "bb78ca1d",
   "metadata": {},
   "source": [
    " Now they match!"
   ]
  },
  {
   "cell_type": "markdown",
   "id": "2081fb21",
   "metadata": {},
   "source": [
    "#### Let's look at instances where animal_id exists more than once:\n",
    "It does appear that duplicate animal ids represent times when an animal has been seen on more than one occasion. \n"
   ]
  },
  {
   "cell_type": "code",
   "execution_count": 30,
   "id": "bbe61de7",
   "metadata": {},
   "outputs": [],
   "source": [
    "intakes_duplicated = intakes[intakes.animal_id.duplicated(keep=False)].sort_values(['animal_id', 'datetime_intake'])\n",
    "outcomes_duplicated = outcomes[outcomes.animal_id.duplicated(keep=False)].sort_values(['animal_id', 'datetime_outcome'])"
   ]
  },
  {
   "cell_type": "code",
   "execution_count": 31,
   "id": "4ac6dd77",
   "metadata": {},
   "outputs": [
    {
     "data": {
      "text/html": [
       "<div>\n",
       "<style scoped>\n",
       "    .dataframe tbody tr th:only-of-type {\n",
       "        vertical-align: middle;\n",
       "    }\n",
       "\n",
       "    .dataframe tbody tr th {\n",
       "        vertical-align: top;\n",
       "    }\n",
       "\n",
       "    .dataframe thead th {\n",
       "        text-align: right;\n",
       "    }\n",
       "</style>\n",
       "<table border=\"1\" class=\"dataframe\">\n",
       "  <thead>\n",
       "    <tr style=\"text-align: right;\">\n",
       "      <th></th>\n",
       "      <th>animal_id</th>\n",
       "      <th>name_intake</th>\n",
       "      <th>datetime_intake</th>\n",
       "      <th>monthyear_intake</th>\n",
       "      <th>found_location</th>\n",
       "      <th>intake_type</th>\n",
       "      <th>intake_condition</th>\n",
       "      <th>animal_type_intake</th>\n",
       "      <th>sex_upon_intake</th>\n",
       "      <th>age_upon_intake</th>\n",
       "      <th>breed_intake</th>\n",
       "      <th>color_intake</th>\n",
       "    </tr>\n",
       "  </thead>\n",
       "  <tbody>\n",
       "    <tr>\n",
       "      <th>91394</th>\n",
       "      <td>A006100</td>\n",
       "      <td>Scamp</td>\n",
       "      <td>03/07/2014 02:26:00 PM</td>\n",
       "      <td>March 2014</td>\n",
       "      <td>8700 Research in Austin (TX)</td>\n",
       "      <td>Public Assist</td>\n",
       "      <td>Normal</td>\n",
       "      <td>Dog</td>\n",
       "      <td>Neutered Male</td>\n",
       "      <td>6 years</td>\n",
       "      <td>Spinone Italiano Mix</td>\n",
       "      <td>Yellow/White</td>\n",
       "    </tr>\n",
       "    <tr>\n",
       "      <th>20227</th>\n",
       "      <td>A006100</td>\n",
       "      <td>Scamp</td>\n",
       "      <td>12/07/2017 02:07:00 PM</td>\n",
       "      <td>December 2017</td>\n",
       "      <td>Colony Creek And Hunters Trace in Austin (TX)</td>\n",
       "      <td>Stray</td>\n",
       "      <td>Normal</td>\n",
       "      <td>Dog</td>\n",
       "      <td>Neutered Male</td>\n",
       "      <td>10 years</td>\n",
       "      <td>Spinone Italiano Mix</td>\n",
       "      <td>Yellow/White</td>\n",
       "    </tr>\n",
       "    <tr>\n",
       "      <th>4342</th>\n",
       "      <td>A006100</td>\n",
       "      <td>Scamp</td>\n",
       "      <td>12/19/2014 10:21:00 AM</td>\n",
       "      <td>December 2014</td>\n",
       "      <td>8700 Research Blvd in Austin (TX)</td>\n",
       "      <td>Public Assist</td>\n",
       "      <td>Normal</td>\n",
       "      <td>Dog</td>\n",
       "      <td>Neutered Male</td>\n",
       "      <td>7 years</td>\n",
       "      <td>Spinone Italiano Mix</td>\n",
       "      <td>Yellow/White</td>\n",
       "    </tr>\n",
       "    <tr>\n",
       "      <th>122619</th>\n",
       "      <td>A245945</td>\n",
       "      <td>Boomer</td>\n",
       "      <td>05/20/2015 10:34:00 PM</td>\n",
       "      <td>May 2015</td>\n",
       "      <td>7403 Blessing Ave in Austin (TX)</td>\n",
       "      <td>Stray</td>\n",
       "      <td>Normal</td>\n",
       "      <td>Dog</td>\n",
       "      <td>Neutered Male</td>\n",
       "      <td>15 years</td>\n",
       "      <td>Labrador Retriever Mix</td>\n",
       "      <td>Tan</td>\n",
       "    </tr>\n",
       "    <tr>\n",
       "      <th>99456</th>\n",
       "      <td>A245945</td>\n",
       "      <td>Boomer</td>\n",
       "      <td>07/03/2014 05:55:00 PM</td>\n",
       "      <td>July 2014</td>\n",
       "      <td>Garden And Mildred in Austin (TX)</td>\n",
       "      <td>Stray</td>\n",
       "      <td>Normal</td>\n",
       "      <td>Dog</td>\n",
       "      <td>Neutered Male</td>\n",
       "      <td>14 years</td>\n",
       "      <td>Labrador Retriever Mix</td>\n",
       "      <td>Tan</td>\n",
       "    </tr>\n",
       "  </tbody>\n",
       "</table>\n",
       "</div>"
      ],
      "text/plain": [
       "       animal_id name_intake         datetime_intake monthyear_intake  \\\n",
       "91394    A006100       Scamp  03/07/2014 02:26:00 PM       March 2014   \n",
       "20227    A006100       Scamp  12/07/2017 02:07:00 PM    December 2017   \n",
       "4342     A006100       Scamp  12/19/2014 10:21:00 AM    December 2014   \n",
       "122619   A245945      Boomer  05/20/2015 10:34:00 PM         May 2015   \n",
       "99456    A245945      Boomer  07/03/2014 05:55:00 PM        July 2014   \n",
       "\n",
       "                                       found_location    intake_type  \\\n",
       "91394                    8700 Research in Austin (TX)  Public Assist   \n",
       "20227   Colony Creek And Hunters Trace in Austin (TX)          Stray   \n",
       "4342                8700 Research Blvd in Austin (TX)  Public Assist   \n",
       "122619               7403 Blessing Ave in Austin (TX)          Stray   \n",
       "99456               Garden And Mildred in Austin (TX)          Stray   \n",
       "\n",
       "       intake_condition animal_type_intake sex_upon_intake age_upon_intake  \\\n",
       "91394            Normal                Dog   Neutered Male         6 years   \n",
       "20227            Normal                Dog   Neutered Male        10 years   \n",
       "4342             Normal                Dog   Neutered Male         7 years   \n",
       "122619           Normal                Dog   Neutered Male        15 years   \n",
       "99456            Normal                Dog   Neutered Male        14 years   \n",
       "\n",
       "                  breed_intake  color_intake  \n",
       "91394     Spinone Italiano Mix  Yellow/White  \n",
       "20227     Spinone Italiano Mix  Yellow/White  \n",
       "4342      Spinone Italiano Mix  Yellow/White  \n",
       "122619  Labrador Retriever Mix           Tan  \n",
       "99456   Labrador Retriever Mix           Tan  "
      ]
     },
     "execution_count": 31,
     "metadata": {},
     "output_type": "execute_result"
    }
   ],
   "source": [
    "intakes_duplicated.head()"
   ]
  },
  {
   "cell_type": "code",
   "execution_count": 32,
   "id": "b53bcd89",
   "metadata": {},
   "outputs": [
    {
     "data": {
      "text/html": [
       "<div>\n",
       "<style scoped>\n",
       "    .dataframe tbody tr th:only-of-type {\n",
       "        vertical-align: middle;\n",
       "    }\n",
       "\n",
       "    .dataframe tbody tr th {\n",
       "        vertical-align: top;\n",
       "    }\n",
       "\n",
       "    .dataframe thead th {\n",
       "        text-align: right;\n",
       "    }\n",
       "</style>\n",
       "<table border=\"1\" class=\"dataframe\">\n",
       "  <thead>\n",
       "    <tr style=\"text-align: right;\">\n",
       "      <th></th>\n",
       "      <th>animal_id</th>\n",
       "      <th>name_outcome</th>\n",
       "      <th>datetime_outcome</th>\n",
       "      <th>monthyear_outcome</th>\n",
       "      <th>date_of_birth</th>\n",
       "      <th>outcome_type</th>\n",
       "      <th>outcome_subtype</th>\n",
       "      <th>animal_type_outcome</th>\n",
       "      <th>sex_upon_outcome</th>\n",
       "      <th>age_upon_outcome</th>\n",
       "      <th>breed_outcome</th>\n",
       "      <th>color_outcome</th>\n",
       "    </tr>\n",
       "  </thead>\n",
       "  <tbody>\n",
       "    <tr>\n",
       "      <th>115207</th>\n",
       "      <td>A006100</td>\n",
       "      <td>Scamp</td>\n",
       "      <td>03/08/2014 05:10:00 PM</td>\n",
       "      <td>Mar 2014</td>\n",
       "      <td>07/09/2007</td>\n",
       "      <td>Return to Owner</td>\n",
       "      <td>NaN</td>\n",
       "      <td>Dog</td>\n",
       "      <td>Neutered Male</td>\n",
       "      <td>6 years</td>\n",
       "      <td>Spinone Italiano Mix</td>\n",
       "      <td>Yellow/White</td>\n",
       "    </tr>\n",
       "    <tr>\n",
       "      <th>101468</th>\n",
       "      <td>A006100</td>\n",
       "      <td>Scamp</td>\n",
       "      <td>12/07/2017 12:00:00 AM</td>\n",
       "      <td>Dec 2017</td>\n",
       "      <td>07/09/2007</td>\n",
       "      <td>Return to Owner</td>\n",
       "      <td>NaN</td>\n",
       "      <td>Dog</td>\n",
       "      <td>Neutered Male</td>\n",
       "      <td>10 years</td>\n",
       "      <td>Spinone Italiano Mix</td>\n",
       "      <td>Yellow/White</td>\n",
       "    </tr>\n",
       "    <tr>\n",
       "      <th>56676</th>\n",
       "      <td>A006100</td>\n",
       "      <td>Scamp</td>\n",
       "      <td>12/20/2014 04:35:00 PM</td>\n",
       "      <td>Dec 2014</td>\n",
       "      <td>07/09/2007</td>\n",
       "      <td>Return to Owner</td>\n",
       "      <td>NaN</td>\n",
       "      <td>Dog</td>\n",
       "      <td>Neutered Male</td>\n",
       "      <td>7 years</td>\n",
       "      <td>Spinone Italiano Mix</td>\n",
       "      <td>Yellow/White</td>\n",
       "    </tr>\n",
       "    <tr>\n",
       "      <th>69515</th>\n",
       "      <td>A245945</td>\n",
       "      <td>Boomer</td>\n",
       "      <td>05/25/2015 11:49:00 AM</td>\n",
       "      <td>May 2015</td>\n",
       "      <td>05/23/2000</td>\n",
       "      <td>Transfer</td>\n",
       "      <td>Partner</td>\n",
       "      <td>Dog</td>\n",
       "      <td>Neutered Male</td>\n",
       "      <td>15 years</td>\n",
       "      <td>Labrador Retriever Mix</td>\n",
       "      <td>Tan</td>\n",
       "    </tr>\n",
       "    <tr>\n",
       "      <th>90674</th>\n",
       "      <td>A245945</td>\n",
       "      <td>Boomer</td>\n",
       "      <td>07/04/2014 03:26:00 PM</td>\n",
       "      <td>Jul 2014</td>\n",
       "      <td>05/23/2000</td>\n",
       "      <td>Return to Owner</td>\n",
       "      <td>NaN</td>\n",
       "      <td>Dog</td>\n",
       "      <td>Neutered Male</td>\n",
       "      <td>14 years</td>\n",
       "      <td>Labrador Retriever Mix</td>\n",
       "      <td>Tan</td>\n",
       "    </tr>\n",
       "  </tbody>\n",
       "</table>\n",
       "</div>"
      ],
      "text/plain": [
       "       animal_id name_outcome        datetime_outcome monthyear_outcome  \\\n",
       "115207   A006100        Scamp  03/08/2014 05:10:00 PM          Mar 2014   \n",
       "101468   A006100        Scamp  12/07/2017 12:00:00 AM          Dec 2017   \n",
       "56676    A006100        Scamp  12/20/2014 04:35:00 PM          Dec 2014   \n",
       "69515    A245945       Boomer  05/25/2015 11:49:00 AM          May 2015   \n",
       "90674    A245945       Boomer  07/04/2014 03:26:00 PM          Jul 2014   \n",
       "\n",
       "       date_of_birth     outcome_type outcome_subtype animal_type_outcome  \\\n",
       "115207    07/09/2007  Return to Owner             NaN                 Dog   \n",
       "101468    07/09/2007  Return to Owner             NaN                 Dog   \n",
       "56676     07/09/2007  Return to Owner             NaN                 Dog   \n",
       "69515     05/23/2000         Transfer         Partner                 Dog   \n",
       "90674     05/23/2000  Return to Owner             NaN                 Dog   \n",
       "\n",
       "       sex_upon_outcome age_upon_outcome           breed_outcome color_outcome  \n",
       "115207    Neutered Male          6 years    Spinone Italiano Mix  Yellow/White  \n",
       "101468    Neutered Male         10 years    Spinone Italiano Mix  Yellow/White  \n",
       "56676     Neutered Male          7 years    Spinone Italiano Mix  Yellow/White  \n",
       "69515     Neutered Male         15 years  Labrador Retriever Mix           Tan  \n",
       "90674     Neutered Male         14 years  Labrador Retriever Mix           Tan  "
      ]
     },
     "execution_count": 32,
     "metadata": {},
     "output_type": "execute_result"
    }
   ],
   "source": [
    "outcomes_duplicated.head()"
   ]
  },
  {
   "cell_type": "code",
   "execution_count": 33,
   "id": "d6b9436a",
   "metadata": {},
   "outputs": [],
   "source": [
    "#### so let's add some information about number of times the animal has previously been seen at the shelter, as well as a unique identifier for each occasion, so that these intakes can be joined to the appropriate outcomes"
   ]
  },
  {
   "cell_type": "code",
   "execution_count": 34,
   "id": "d05a4c2b",
   "metadata": {},
   "outputs": [],
   "source": [
    "intakes['datetime_intake'] = pd.to_datetime(intakes.datetime_intake)\n",
    "intakes = intakes.sort_values('datetime_intake', ignore_index=True)"
   ]
  },
  {
   "cell_type": "code",
   "execution_count": 35,
   "id": "061df690",
   "metadata": {},
   "outputs": [],
   "source": [
    "intakes['n_previous_stays'] = intakes.groupby('animal_id').cumcount()\n",
    "intakes['stay_id'] = intakes.animal_id + '_' + intakes.n_previous_stays.astype(str)"
   ]
  },
  {
   "cell_type": "code",
   "execution_count": 36,
   "id": "e780faea",
   "metadata": {},
   "outputs": [],
   "source": [
    "outcomes['datetime_outcome'] = pd.to_datetime(outcomes.datetime_outcome)\n",
    "outcomes = outcomes.sort_values('datetime_outcome', ignore_index=True)"
   ]
  },
  {
   "cell_type": "code",
   "execution_count": 37,
   "id": "56af0499",
   "metadata": {},
   "outputs": [],
   "source": [
    "outcomes['n_previous_stays'] = outcomes.groupby('animal_id').cumcount()\n",
    "outcomes['stay_id'] = outcomes.animal_id + '_' + outcomes.n_previous_stays.astype(str)"
   ]
  },
  {
   "cell_type": "code",
   "execution_count": 38,
   "id": "89690947",
   "metadata": {},
   "outputs": [],
   "source": [
    "intakes_duplicated = intakes[intakes.animal_id.duplicated(keep=False)].sort_values(['animal_id', 'datetime_intake'])\n",
    "outcomes_duplicated = outcomes[outcomes.animal_id.duplicated(keep=False)].sort_values(['animal_id', 'datetime_outcome'])"
   ]
  },
  {
   "cell_type": "code",
   "execution_count": 39,
   "id": "a425b6f1",
   "metadata": {},
   "outputs": [
    {
     "data": {
      "text/html": [
       "<div>\n",
       "<style scoped>\n",
       "    .dataframe tbody tr th:only-of-type {\n",
       "        vertical-align: middle;\n",
       "    }\n",
       "\n",
       "    .dataframe tbody tr th {\n",
       "        vertical-align: top;\n",
       "    }\n",
       "\n",
       "    .dataframe thead th {\n",
       "        text-align: right;\n",
       "    }\n",
       "</style>\n",
       "<table border=\"1\" class=\"dataframe\">\n",
       "  <thead>\n",
       "    <tr style=\"text-align: right;\">\n",
       "      <th></th>\n",
       "      <th>animal_id</th>\n",
       "      <th>name_intake</th>\n",
       "      <th>datetime_intake</th>\n",
       "      <th>n_previous_stays</th>\n",
       "      <th>stay_id</th>\n",
       "    </tr>\n",
       "  </thead>\n",
       "  <tbody>\n",
       "    <tr>\n",
       "      <th>6925</th>\n",
       "      <td>A006100</td>\n",
       "      <td>Scamp</td>\n",
       "      <td>2014-03-07 14:26:00</td>\n",
       "      <td>0</td>\n",
       "      <td>A006100_0</td>\n",
       "    </tr>\n",
       "    <tr>\n",
       "      <th>22371</th>\n",
       "      <td>A006100</td>\n",
       "      <td>Scamp</td>\n",
       "      <td>2014-12-19 10:21:00</td>\n",
       "      <td>1</td>\n",
       "      <td>A006100_1</td>\n",
       "    </tr>\n",
       "    <tr>\n",
       "      <th>75923</th>\n",
       "      <td>A006100</td>\n",
       "      <td>Scamp</td>\n",
       "      <td>2017-12-07 14:07:00</td>\n",
       "      <td>2</td>\n",
       "      <td>A006100_2</td>\n",
       "    </tr>\n",
       "    <tr>\n",
       "      <th>13575</th>\n",
       "      <td>A245945</td>\n",
       "      <td>Boomer</td>\n",
       "      <td>2014-07-03 17:55:00</td>\n",
       "      <td>0</td>\n",
       "      <td>A245945_0</td>\n",
       "    </tr>\n",
       "    <tr>\n",
       "      <th>29342</th>\n",
       "      <td>A245945</td>\n",
       "      <td>Boomer</td>\n",
       "      <td>2015-05-20 22:34:00</td>\n",
       "      <td>1</td>\n",
       "      <td>A245945_1</td>\n",
       "    </tr>\n",
       "  </tbody>\n",
       "</table>\n",
       "</div>"
      ],
      "text/plain": [
       "      animal_id name_intake     datetime_intake  n_previous_stays    stay_id\n",
       "6925    A006100       Scamp 2014-03-07 14:26:00                 0  A006100_0\n",
       "22371   A006100       Scamp 2014-12-19 10:21:00                 1  A006100_1\n",
       "75923   A006100       Scamp 2017-12-07 14:07:00                 2  A006100_2\n",
       "13575   A245945      Boomer 2014-07-03 17:55:00                 0  A245945_0\n",
       "29342   A245945      Boomer 2015-05-20 22:34:00                 1  A245945_1"
      ]
     },
     "execution_count": 39,
     "metadata": {},
     "output_type": "execute_result"
    }
   ],
   "source": [
    "intakes_duplicated[['animal_id', 'name_intake', 'datetime_intake', 'n_previous_stays', 'stay_id']].head()"
   ]
  },
  {
   "cell_type": "code",
   "execution_count": 40,
   "id": "a7816e13",
   "metadata": {},
   "outputs": [
    {
     "data": {
      "text/html": [
       "<div>\n",
       "<style scoped>\n",
       "    .dataframe tbody tr th:only-of-type {\n",
       "        vertical-align: middle;\n",
       "    }\n",
       "\n",
       "    .dataframe tbody tr th {\n",
       "        vertical-align: top;\n",
       "    }\n",
       "\n",
       "    .dataframe thead th {\n",
       "        text-align: right;\n",
       "    }\n",
       "</style>\n",
       "<table border=\"1\" class=\"dataframe\">\n",
       "  <thead>\n",
       "    <tr style=\"text-align: right;\">\n",
       "      <th></th>\n",
       "      <th>animal_id</th>\n",
       "      <th>name_outcome</th>\n",
       "      <th>datetime_outcome</th>\n",
       "      <th>n_previous_stays</th>\n",
       "      <th>stay_id</th>\n",
       "    </tr>\n",
       "  </thead>\n",
       "  <tbody>\n",
       "    <tr>\n",
       "      <th>6502</th>\n",
       "      <td>A006100</td>\n",
       "      <td>Scamp</td>\n",
       "      <td>2014-03-08 17:10:00</td>\n",
       "      <td>0</td>\n",
       "      <td>A006100_0</td>\n",
       "    </tr>\n",
       "    <tr>\n",
       "      <th>21914</th>\n",
       "      <td>A006100</td>\n",
       "      <td>Scamp</td>\n",
       "      <td>2014-12-20 16:35:00</td>\n",
       "      <td>1</td>\n",
       "      <td>A006100_1</td>\n",
       "    </tr>\n",
       "    <tr>\n",
       "      <th>75186</th>\n",
       "      <td>A006100</td>\n",
       "      <td>Scamp</td>\n",
       "      <td>2017-12-07 00:00:00</td>\n",
       "      <td>2</td>\n",
       "      <td>A006100_2</td>\n",
       "    </tr>\n",
       "    <tr>\n",
       "      <th>12619</th>\n",
       "      <td>A245945</td>\n",
       "      <td>Boomer</td>\n",
       "      <td>2014-07-04 15:26:00</td>\n",
       "      <td>0</td>\n",
       "      <td>A245945_0</td>\n",
       "    </tr>\n",
       "    <tr>\n",
       "      <th>28720</th>\n",
       "      <td>A245945</td>\n",
       "      <td>Boomer</td>\n",
       "      <td>2015-05-25 11:49:00</td>\n",
       "      <td>1</td>\n",
       "      <td>A245945_1</td>\n",
       "    </tr>\n",
       "  </tbody>\n",
       "</table>\n",
       "</div>"
      ],
      "text/plain": [
       "      animal_id name_outcome    datetime_outcome  n_previous_stays    stay_id\n",
       "6502    A006100        Scamp 2014-03-08 17:10:00                 0  A006100_0\n",
       "21914   A006100        Scamp 2014-12-20 16:35:00                 1  A006100_1\n",
       "75186   A006100        Scamp 2017-12-07 00:00:00                 2  A006100_2\n",
       "12619   A245945       Boomer 2014-07-04 15:26:00                 0  A245945_0\n",
       "28720   A245945       Boomer 2015-05-25 11:49:00                 1  A245945_1"
      ]
     },
     "execution_count": 40,
     "metadata": {},
     "output_type": "execute_result"
    }
   ],
   "source": [
    "outcomes_duplicated[['animal_id', 'name_outcome', 'datetime_outcome', 'n_previous_stays', 'stay_id']].head()"
   ]
  },
  {
   "cell_type": "markdown",
   "id": "ea8cca2d",
   "metadata": {},
   "source": [
    "#### Join the dataframes"
   ]
  },
  {
   "cell_type": "code",
   "execution_count": 41,
   "id": "0f0f718c",
   "metadata": {},
   "outputs": [],
   "source": [
    "df = pd.merge(intakes, outcomes, on='stay_id', suffixes=(None, '_y'))\n",
    "df = df.drop(columns=[col for col in df.columns if '_y' in col])"
   ]
  },
  {
   "cell_type": "markdown",
   "id": "2d500cbe",
   "metadata": {},
   "source": [
    "#### Drop variables from original outcome table (except the target - 'outcome')\n",
    "(by definition, not drivers of outcome, unless we start getting into duration of stay, etc. Which we won't do at this point)"
   ]
  },
  {
   "cell_type": "code",
   "execution_count": 42,
   "id": "ed9a3222",
   "metadata": {},
   "outputs": [],
   "source": [
    "columns = ['datetime_outcome', 'monthyear_outcome', 'date_of_birth', 'outcome_subtype', 'animal_type_outcome', 'sex_upon_outcome', 'age_upon_outcome', 'breed_outcome', 'color_outcome', 'name_outcome']\n",
    "df = df.drop(columns=columns)"
   ]
  },
  {
   "cell_type": "code",
   "execution_count": 43,
   "id": "30cf77a4",
   "metadata": {},
   "outputs": [
    {
     "data": {
      "text/html": [
       "<div>\n",
       "<style scoped>\n",
       "    .dataframe tbody tr th:only-of-type {\n",
       "        vertical-align: middle;\n",
       "    }\n",
       "\n",
       "    .dataframe tbody tr th {\n",
       "        vertical-align: top;\n",
       "    }\n",
       "\n",
       "    .dataframe thead th {\n",
       "        text-align: right;\n",
       "    }\n",
       "</style>\n",
       "<table border=\"1\" class=\"dataframe\">\n",
       "  <thead>\n",
       "    <tr style=\"text-align: right;\">\n",
       "      <th></th>\n",
       "      <th>animal_id</th>\n",
       "      <th>name_intake</th>\n",
       "      <th>datetime_intake</th>\n",
       "      <th>monthyear_intake</th>\n",
       "      <th>found_location</th>\n",
       "      <th>intake_type</th>\n",
       "      <th>intake_condition</th>\n",
       "      <th>animal_type_intake</th>\n",
       "      <th>sex_upon_intake</th>\n",
       "      <th>age_upon_intake</th>\n",
       "      <th>breed_intake</th>\n",
       "      <th>color_intake</th>\n",
       "      <th>n_previous_stays</th>\n",
       "      <th>stay_id</th>\n",
       "      <th>outcome_type</th>\n",
       "    </tr>\n",
       "  </thead>\n",
       "  <tbody>\n",
       "    <tr>\n",
       "      <th>0</th>\n",
       "      <td>A521520</td>\n",
       "      <td>Nina</td>\n",
       "      <td>2013-10-01 07:51:00</td>\n",
       "      <td>October 2013</td>\n",
       "      <td>Norht Ec in Austin (TX)</td>\n",
       "      <td>Stray</td>\n",
       "      <td>Normal</td>\n",
       "      <td>Dog</td>\n",
       "      <td>Spayed Female</td>\n",
       "      <td>7 years</td>\n",
       "      <td>Border Terrier/Border Collie</td>\n",
       "      <td>White/Tan</td>\n",
       "      <td>0</td>\n",
       "      <td>A521520_0</td>\n",
       "      <td>Return to Owner</td>\n",
       "    </tr>\n",
       "    <tr>\n",
       "      <th>1</th>\n",
       "      <td>A664235</td>\n",
       "      <td>NaN</td>\n",
       "      <td>2013-10-01 08:33:00</td>\n",
       "      <td>October 2013</td>\n",
       "      <td>Abia in Austin (TX)</td>\n",
       "      <td>Stray</td>\n",
       "      <td>Normal</td>\n",
       "      <td>Cat</td>\n",
       "      <td>Unknown</td>\n",
       "      <td>1 week</td>\n",
       "      <td>Domestic Shorthair Mix</td>\n",
       "      <td>Orange/White</td>\n",
       "      <td>0</td>\n",
       "      <td>A664235_0</td>\n",
       "      <td>Transfer</td>\n",
       "    </tr>\n",
       "    <tr>\n",
       "      <th>2</th>\n",
       "      <td>A664236</td>\n",
       "      <td>NaN</td>\n",
       "      <td>2013-10-01 08:33:00</td>\n",
       "      <td>October 2013</td>\n",
       "      <td>Abia in Austin (TX)</td>\n",
       "      <td>Stray</td>\n",
       "      <td>Normal</td>\n",
       "      <td>Cat</td>\n",
       "      <td>Unknown</td>\n",
       "      <td>1 week</td>\n",
       "      <td>Domestic Shorthair Mix</td>\n",
       "      <td>Orange/White</td>\n",
       "      <td>0</td>\n",
       "      <td>A664236_0</td>\n",
       "      <td>Transfer</td>\n",
       "    </tr>\n",
       "    <tr>\n",
       "      <th>3</th>\n",
       "      <td>A664237</td>\n",
       "      <td>NaN</td>\n",
       "      <td>2013-10-01 08:33:00</td>\n",
       "      <td>October 2013</td>\n",
       "      <td>Abia in Austin (TX)</td>\n",
       "      <td>Stray</td>\n",
       "      <td>Normal</td>\n",
       "      <td>Cat</td>\n",
       "      <td>Unknown</td>\n",
       "      <td>1 week</td>\n",
       "      <td>Domestic Shorthair Mix</td>\n",
       "      <td>Orange/White</td>\n",
       "      <td>0</td>\n",
       "      <td>A664237_0</td>\n",
       "      <td>Transfer</td>\n",
       "    </tr>\n",
       "    <tr>\n",
       "      <th>4</th>\n",
       "      <td>A664233</td>\n",
       "      <td>Stevie</td>\n",
       "      <td>2013-10-01 08:53:00</td>\n",
       "      <td>October 2013</td>\n",
       "      <td>7405 Springtime in Austin (TX)</td>\n",
       "      <td>Stray</td>\n",
       "      <td>Injured</td>\n",
       "      <td>Dog</td>\n",
       "      <td>Intact Female</td>\n",
       "      <td>3 years</td>\n",
       "      <td>Pit Bull Mix</td>\n",
       "      <td>Blue/White</td>\n",
       "      <td>0</td>\n",
       "      <td>A664233_0</td>\n",
       "      <td>Euthanasia</td>\n",
       "    </tr>\n",
       "  </tbody>\n",
       "</table>\n",
       "</div>"
      ],
      "text/plain": [
       "  animal_id name_intake     datetime_intake monthyear_intake  \\\n",
       "0   A521520        Nina 2013-10-01 07:51:00     October 2013   \n",
       "1   A664235         NaN 2013-10-01 08:33:00     October 2013   \n",
       "2   A664236         NaN 2013-10-01 08:33:00     October 2013   \n",
       "3   A664237         NaN 2013-10-01 08:33:00     October 2013   \n",
       "4   A664233      Stevie 2013-10-01 08:53:00     October 2013   \n",
       "\n",
       "                   found_location intake_type intake_condition  \\\n",
       "0         Norht Ec in Austin (TX)       Stray           Normal   \n",
       "1             Abia in Austin (TX)       Stray           Normal   \n",
       "2             Abia in Austin (TX)       Stray           Normal   \n",
       "3             Abia in Austin (TX)       Stray           Normal   \n",
       "4  7405 Springtime in Austin (TX)       Stray          Injured   \n",
       "\n",
       "  animal_type_intake sex_upon_intake age_upon_intake  \\\n",
       "0                Dog   Spayed Female         7 years   \n",
       "1                Cat         Unknown          1 week   \n",
       "2                Cat         Unknown          1 week   \n",
       "3                Cat         Unknown          1 week   \n",
       "4                Dog   Intact Female         3 years   \n",
       "\n",
       "                   breed_intake  color_intake  n_previous_stays    stay_id  \\\n",
       "0  Border Terrier/Border Collie     White/Tan                 0  A521520_0   \n",
       "1        Domestic Shorthair Mix  Orange/White                 0  A664235_0   \n",
       "2        Domestic Shorthair Mix  Orange/White                 0  A664236_0   \n",
       "3        Domestic Shorthair Mix  Orange/White                 0  A664237_0   \n",
       "4                  Pit Bull Mix    Blue/White                 0  A664233_0   \n",
       "\n",
       "      outcome_type  \n",
       "0  Return to Owner  \n",
       "1         Transfer  \n",
       "2         Transfer  \n",
       "3         Transfer  \n",
       "4       Euthanasia  "
      ]
     },
     "execution_count": 43,
     "metadata": {},
     "output_type": "execute_result"
    }
   ],
   "source": [
    "df.head()"
   ]
  },
  {
   "cell_type": "markdown",
   "id": "5889f93e",
   "metadata": {},
   "source": [
    "#### Split the month_year column to extract the month (proxy for time of year)"
   ]
  },
  {
   "cell_type": "code",
   "execution_count": 44,
   "id": "5e85b518",
   "metadata": {},
   "outputs": [],
   "source": [
    "df['month_intake'] = df.monthyear_intake.str.split().apply(lambda row: row[0])\n",
    "df = df.drop(columns='monthyear_intake')"
   ]
  },
  {
   "cell_type": "markdown",
   "id": "644a714a",
   "metadata": {},
   "source": [
    "#### Split the sex upon intake column into fixed/not fixed and sex"
   ]
  },
  {
   "cell_type": "code",
   "execution_count": 45,
   "id": "6af99824",
   "metadata": {},
   "outputs": [],
   "source": [
    "df['fixed'] = df.sex_upon_intake.map({'Neutered Male': True,\n",
    "                                      'Spayed Female': True,\n",
    "                                      'Intact Male': False,\n",
    "                                      'Intact Female': False,\n",
    "                                      'Unknown': 'unknown'})"
   ]
  },
  {
   "cell_type": "code",
   "execution_count": 46,
   "id": "1f7cfa9d",
   "metadata": {},
   "outputs": [],
   "source": [
    "df['sex'] = df.sex_upon_intake.map({'Neutered Male': 'male',\n",
    "                                      'Spayed Female': 'female',\n",
    "                                      'Intact Male': 'male',\n",
    "                                      'Intact Female': 'female',\n",
    "                                      'Unknown': 'unknown'})"
   ]
  },
  {
   "cell_type": "code",
   "execution_count": 47,
   "id": "53180a66",
   "metadata": {},
   "outputs": [],
   "source": [
    "df = df.drop(columns='sex_upon_intake')"
   ]
  },
  {
   "cell_type": "markdown",
   "id": "13fdd5a6",
   "metadata": {},
   "source": [
    "#### Rename Columns"
   ]
  },
  {
   "cell_type": "code",
   "execution_count": 48,
   "id": "0d851e27",
   "metadata": {},
   "outputs": [],
   "source": [
    "df = df.rename(columns={'animal_type_intake': 'animal_type',\n",
    "                        'breed_intake': 'breed', \n",
    "                        'color_intake': 'color',\n",
    "                        'name_intake': 'name'})"
   ]
  },
  {
   "cell_type": "code",
   "execution_count": 49,
   "id": "1f7b005a",
   "metadata": {},
   "outputs": [],
   "source": [
    "def check_mixed(breed):\n",
    "    if 'Mix' in breed or '/' in breed:\n",
    "        return True\n",
    "    else:\n",
    "        return False\n",
    "    \n",
    "df['breed_mixed'] = df.breed.apply(lambda row: check_mixed(row))"
   ]
  },
  {
   "cell_type": "code",
   "execution_count": 50,
   "id": "3e44b6fb",
   "metadata": {},
   "outputs": [],
   "source": [
    "df['breed'] = df.breed.str.replace(' Mix', '')"
   ]
  },
  {
   "cell_type": "code",
   "execution_count": 51,
   "id": "51343e87",
   "metadata": {},
   "outputs": [],
   "source": [
    "def breed_split_1(breed):\n",
    "    if len(breed.split('/')) == 1:\n",
    "        return breed\n",
    "    else:\n",
    "        return breed.split('/')[0]\n",
    "\n",
    "def breed_split_2(breed):\n",
    "    if len(breed.split('/')) > 1:\n",
    "        return breed.split('/')[1]\n",
    "    else:\n",
    "        return np.nan\n",
    "    \n",
    "def breed_split_3(breed):\n",
    "    if len(breed.split('/')) > 2:\n",
    "        return breed.split('/')[2]\n",
    "    else:\n",
    "        return np.nan\n",
    "\n",
    "df['breed_1'] = df.breed.apply(breed_split_1)\n",
    "df['breed_2'] = df.breed.apply(breed_split_2)\n",
    "df['breed_3'] = df.breed.apply(breed_split_3)\n",
    "df = df.drop(columns='breed')"
   ]
  },
  {
   "cell_type": "code",
   "execution_count": 52,
   "id": "0e3f58dc",
   "metadata": {},
   "outputs": [],
   "source": [
    "df['age_number'] = df.age_upon_intake.str.split().apply(lambda row: int(row[0]))\n",
    "df['age_units'] = df.age_upon_intake.str.split().apply(lambda row: row[1])\n",
    "df['age_multiplier'] = df.age_units.map({'day': 1, \n",
    "                                         'days': 1, \n",
    "                                         'week': 7, \n",
    "                                         'weeks': 7,\n",
    "                                         'month': 30, \n",
    "                                         'months': 30, \n",
    "                                         'year': 365, \n",
    "                                         'years': 365})\n",
    "df['age_intake'] = df.age_number * df.age_multiplier\n",
    "df['age_intake'] = df.age_intake.apply(lambda row: pd.Timedelta(days=row))\n",
    "df = df.drop(columns=['age_number', 'age_units', 'age_multiplier', 'age_upon_intake'])"
   ]
  },
  {
   "cell_type": "code",
   "execution_count": 53,
   "id": "d0527517",
   "metadata": {},
   "outputs": [],
   "source": [
    "def color_split_1(color):\n",
    "    if len(color.split('/')) == 1:\n",
    "        return color\n",
    "    else:\n",
    "        return color.split('/')[0]\n",
    "\n",
    "def color_split_2(color):\n",
    "    if len(color.split('/')) > 1:\n",
    "        return color.split('/')[1]\n",
    "    else:\n",
    "        return np.nan\n",
    "\n",
    "df['color_1'] = df.color.apply(color_split_1)\n",
    "df['color_2'] = df.color.apply(color_split_2)\n",
    "df = df.drop(columns='color')"
   ]
  },
  {
   "cell_type": "code",
   "execution_count": 54,
   "id": "0d5b8a63",
   "metadata": {},
   "outputs": [],
   "source": [
    "df['datetime_intake'] = pd.to_datetime(df.datetime_intake)"
   ]
  },
  {
   "cell_type": "code",
   "execution_count": 55,
   "id": "84bd03cc",
   "metadata": {},
   "outputs": [],
   "source": [
    "import pandas as pd\n",
    "import numpy as np\n",
    "\n",
    "def aac_prep(intakes, outcomes):\n",
    "\n",
    "    # rename columns\n",
    "\n",
    "    for col in intakes.columns:\n",
    "        intakes = intakes.rename(columns={col: f'{col.lower().replace(\" \", \"_\")}'})\n",
    "\n",
    "    for col in outcomes.columns:\n",
    "        outcomes = outcomes.rename(columns={col: f'{col.lower().replace(\" \", \"_\")}'})\n",
    "\n",
    "    cols = ['name', 'datetime', 'monthyear', 'animal_type', 'breed', 'color']\n",
    "    for col in cols:\n",
    "        intakes = intakes.rename(columns={col: col+'_intake'})\n",
    "        outcomes = outcomes.rename(columns={col: col+'_outcome'})\n",
    "        \n",
    "    \n",
    "    # drop animals that have more than one entry (animals that were taken in on more than one occasion) \n",
    "    # (we should remove this step in later analysis)\n",
    "    \n",
    "    intakes_duplicated = intakes[intakes.animal_id.duplicated(keep=False)].sort_values('animal_id')\n",
    "    outcomes_duplicated = outcomes[outcomes.animal_id.duplicated(keep=False)].sort_values('animal_id')\n",
    "    \n",
    "    intakes = intakes.loc[~ intakes.animal_id.isin(intakes_duplicated.animal_id)]\n",
    "    outcomes = outcomes.loc[~ outcomes.animal_id.isin(outcomes_duplicated.animal_id)]\n",
    "    \n",
    "    \n",
    "    # drop outcomes that don't have a corresponding intake, and vis-versa\n",
    "    \n",
    "    outcomes_without_intake = outcomes.loc[~ outcomes.animal_id.isin(intakes.animal_id)]\n",
    "    outcomes = outcomes.loc[~ outcomes.animal_id.isin(outcomes_without_intake.animal_id)]\n",
    "    \n",
    "    intakes_without_outcomes = intakes.loc[~ intakes.animal_id.isin(outcomes.animal_id)]\n",
    "    intakes = intakes.loc[~ intakes.animal_id.isin(intakes_without_outcomes.animal_id)]\n",
    "    \n",
    "    \n",
    "    # join the dataframes\n",
    "    \n",
    "    df = pd.merge(intakes, outcomes, on='animal_id')\n",
    "    \n",
    "    \n",
    "    # drop variables from the original outcomes table (since by definition, they're not drivers of outcome)\n",
    "    \n",
    "    columns = ['datetime_outcome', 'monthyear_outcome', 'date_of_birth', 'outcome_subtype', 'animal_type_outcome', 'sex_upon_outcome', 'age_upon_outcome', 'breed_outcome', 'color_outcome', 'name_outcome']\n",
    "    df = df.drop(columns=columns)\n",
    "    \n",
    "    \n",
    "    # split the month_year column to extract the month (proxy for time of year), then drop month_year column\n",
    "    \n",
    "    df['month_intake'] = df.monthyear_intake.str.split().apply(lambda row: row[0])\n",
    "    df = df.drop(columns='monthyear_intake')\n",
    "    \n",
    "    \n",
    "    # split the sex_upon_intake column into fixed = True/False and sex = male/female\n",
    "    # then drop the sex_upon_intake column\n",
    "    \n",
    "    df['fixed'] = df.sex_upon_intake.map({'Neutered Male': True,\n",
    "                                      'Spayed Female': True,\n",
    "                                      'Intact Male': False,\n",
    "                                      'Intact Female': False,\n",
    "                                      'Unknown': 'unknown'})\n",
    "    df['sex'] = df.sex_upon_intake.map({'Neutered Male': 'male',\n",
    "                                      'Spayed Female': 'female',\n",
    "                                      'Intact Male': 'male',\n",
    "                                      'Intact Female': 'female',\n",
    "                                      'Unknown': 'unknown'})\n",
    "    df = df.drop(columns='sex_upon_intake')\n",
    "    \n",
    "    \n",
    "    # rename columns\n",
    "    \n",
    "    df = df.rename(columns={'animal_type_intake': 'animal_type',\n",
    "                        'breed_intake': 'breed', \n",
    "                        'color_intake': 'color',\n",
    "                        'name_intake': 'name'})\n",
    "    \n",
    "    # determine if breed is 'mixed'\n",
    "        # based on whether the breed description contains the word \"Mix\"\n",
    "        # and based on whether there is more than one breed listed in the description (separated by \"/\")\n",
    "    # create new column breed_mixed = True/False\n",
    "    # then remove the word \"Mix\" from the breed description\n",
    "    \n",
    "    def check_mixed(breed):\n",
    "        if 'Mix' in breed or '/' in breed:\n",
    "            return True\n",
    "        else:\n",
    "            return False\n",
    "\n",
    "    df['breed_mixed'] = df.breed.apply(lambda row: check_mixed(row))\n",
    "    df['breed'] = df.breed.str.replace(' Mix', '')\n",
    "\n",
    "    # split the breed description into multiple columns when there is more than one listed\n",
    "    # then drop the original breed column\n",
    "    \n",
    "    def breed_split_1(breed):\n",
    "        if len(breed.split('/')) == 1:\n",
    "            return breed\n",
    "        else:\n",
    "            return breed.split('/')[0]\n",
    "\n",
    "    def breed_split_2(breed):\n",
    "        if len(breed.split('/')) > 1:\n",
    "            return breed.split('/')[1]\n",
    "        else:\n",
    "            return np.nan\n",
    "\n",
    "    def breed_split_3(breed):\n",
    "        if len(breed.split('/')) > 2:\n",
    "            return breed.split('/')[2]\n",
    "        else:\n",
    "            return np.nan\n",
    "\n",
    "    df['breed_1'] = df.breed.apply(breed_split_1)\n",
    "    df['breed_2'] = df.breed.apply(breed_split_2)\n",
    "    df['breed_3'] = df.breed.apply(breed_split_3)\n",
    "    df = df.drop(columns='breed')\n",
    "    \n",
    "    \n",
    "    # split the color descriptino into multiple columns when there is more than one listed\n",
    "    # then drop the original color column\n",
    "    \n",
    "    def color_split_1(color):\n",
    "        if len(color.split('/')) == 1:\n",
    "            return color\n",
    "        else:\n",
    "            return color.split('/')[0]\n",
    "\n",
    "    def color_split_2(color):\n",
    "        if len(color.split('/')) > 1:\n",
    "            return color.split('/')[1]\n",
    "        else:\n",
    "            return np.nan\n",
    "\n",
    "    df['color_1'] = df.color.apply(color_split_1)\n",
    "    df['color_2'] = df.color.apply(color_split_2)\n",
    "    df = df.drop(columns='color')\n",
    "    \n",
    "    \n",
    "    # convert age column into pandas timedelta (number of days)\n",
    "    \n",
    "    df['age_number'] = df.age_upon_intake.str.split().apply(lambda row: int(row[0]))\n",
    "    df['age_units'] = df.age_upon_intake.str.split().apply(lambda row: row[1])\n",
    "    df['age_multiplier'] = df.age_units.map({'day': 1, \n",
    "                                             'days': 1, \n",
    "                                             'week': 7, \n",
    "                                             'weeks': 7,\n",
    "                                             'month': 30, \n",
    "                                             'months': 30, \n",
    "                                             'year': 365, \n",
    "                                             'years': 365})\n",
    "    df['age_intake'] = df.age_number * df.age_multiplier\n",
    "    df['age_intake'] = df.age_intake.apply(lambda row: pd.Timedelta(days=row))\n",
    "    df = df.drop(columns=['age_number', 'age_units', 'age_multiplier', 'age_upon_intake'])\n",
    "    \n",
    "    # convert the date & time of the intake into a pandas datetime type\n",
    "    \n",
    "    df['datetime_intake'] = pd.to_datetime(df.datetime_intake)\n",
    "    \n",
    "    return df"
   ]
  },
  {
   "cell_type": "code",
   "execution_count": 56,
   "id": "cbe46dcc",
   "metadata": {},
   "outputs": [
    {
     "data": {
      "text/plain": [
       "Stray                 93922\n",
       "Owner Surrender       27968\n",
       "Public Assist          8190\n",
       "Wildlife               5281\n",
       "Abandoned               676\n",
       "Euthanasia Request      259\n",
       "Name: intake_type, dtype: int64"
      ]
     },
     "execution_count": 56,
     "metadata": {},
     "output_type": "execute_result"
    }
   ],
   "source": [
    "df.intake_type.value_counts()"
   ]
  },
  {
   "cell_type": "code",
   "execution_count": 57,
   "id": "de71e7e0",
   "metadata": {},
   "outputs": [
    {
     "data": {
      "text/plain": [
       "Dog          76718\n",
       "Cat          51649\n",
       "Other         7253\n",
       "Bird           652\n",
       "Livestock       24\n",
       "Name: animal_type, dtype: int64"
      ]
     },
     "execution_count": 57,
     "metadata": {},
     "output_type": "execute_result"
    }
   ],
   "source": [
    "df.animal_type.value_counts()"
   ]
  },
  {
   "cell_type": "code",
   "execution_count": 58,
   "id": "87c51501",
   "metadata": {},
   "outputs": [
    {
     "data": {
      "text/plain": [
       "Normal        117496\n",
       "Injured         7651\n",
       "Sick            5864\n",
       "Nursing         3932\n",
       "Aged             461\n",
       "Other            244\n",
       "Neonatal         203\n",
       "Medical          166\n",
       "Feral            123\n",
       "Pregnant         100\n",
       "Behavior          46\n",
       "Space              4\n",
       "Med Attn           3\n",
       "Med Urgent         2\n",
       "Panleuk            1\n",
       "Name: intake_condition, dtype: int64"
      ]
     },
     "execution_count": 58,
     "metadata": {},
     "output_type": "execute_result"
    }
   ],
   "source": [
    "df.intake_condition.value_counts()"
   ]
  },
  {
   "cell_type": "code",
   "execution_count": 59,
   "id": "ad073a30",
   "metadata": {},
   "outputs": [
    {
     "data": {
      "text/plain": [
       "Adoption           62179\n",
       "Transfer           39510\n",
       "Return to Owner    22750\n",
       "Euthanasia          8974\n",
       "Died                1283\n",
       "Rto-Adopt            856\n",
       "Disposal             625\n",
       "Missing               71\n",
       "Relocate              24\n",
       "Name: outcome_type, dtype: int64"
      ]
     },
     "execution_count": 59,
     "metadata": {},
     "output_type": "execute_result"
    }
   ],
   "source": [
    "df.outcome_type.value_counts()"
   ]
  },
  {
   "cell_type": "code",
   "execution_count": 60,
   "id": "21c72f5d",
   "metadata": {},
   "outputs": [
    {
     "data": {
      "text/html": [
       "<div>\n",
       "<style scoped>\n",
       "    .dataframe tbody tr th:only-of-type {\n",
       "        vertical-align: middle;\n",
       "    }\n",
       "\n",
       "    .dataframe tbody tr th {\n",
       "        vertical-align: top;\n",
       "    }\n",
       "\n",
       "    .dataframe thead th {\n",
       "        text-align: right;\n",
       "    }\n",
       "</style>\n",
       "<table border=\"1\" class=\"dataframe\">\n",
       "  <thead>\n",
       "    <tr style=\"text-align: right;\">\n",
       "      <th></th>\n",
       "      <th>animal_id</th>\n",
       "      <th>name</th>\n",
       "      <th>datetime_intake</th>\n",
       "      <th>found_location</th>\n",
       "      <th>intake_type</th>\n",
       "      <th>intake_condition</th>\n",
       "      <th>animal_type</th>\n",
       "      <th>n_previous_stays</th>\n",
       "      <th>stay_id</th>\n",
       "      <th>outcome_type</th>\n",
       "      <th>month_intake</th>\n",
       "      <th>fixed</th>\n",
       "      <th>sex</th>\n",
       "      <th>breed_mixed</th>\n",
       "      <th>breed_1</th>\n",
       "      <th>breed_2</th>\n",
       "      <th>breed_3</th>\n",
       "      <th>age_intake</th>\n",
       "      <th>color_1</th>\n",
       "      <th>color_2</th>\n",
       "    </tr>\n",
       "  </thead>\n",
       "  <tbody>\n",
       "    <tr>\n",
       "      <th>0</th>\n",
       "      <td>A521520</td>\n",
       "      <td>Nina</td>\n",
       "      <td>2013-10-01 07:51:00</td>\n",
       "      <td>Norht Ec in Austin (TX)</td>\n",
       "      <td>Stray</td>\n",
       "      <td>Normal</td>\n",
       "      <td>Dog</td>\n",
       "      <td>0</td>\n",
       "      <td>A521520_0</td>\n",
       "      <td>Return to Owner</td>\n",
       "      <td>October</td>\n",
       "      <td>True</td>\n",
       "      <td>female</td>\n",
       "      <td>True</td>\n",
       "      <td>Border Terrier</td>\n",
       "      <td>Border Collie</td>\n",
       "      <td>NaN</td>\n",
       "      <td>2555 days</td>\n",
       "      <td>White</td>\n",
       "      <td>Tan</td>\n",
       "    </tr>\n",
       "    <tr>\n",
       "      <th>1</th>\n",
       "      <td>A664235</td>\n",
       "      <td>NaN</td>\n",
       "      <td>2013-10-01 08:33:00</td>\n",
       "      <td>Abia in Austin (TX)</td>\n",
       "      <td>Stray</td>\n",
       "      <td>Normal</td>\n",
       "      <td>Cat</td>\n",
       "      <td>0</td>\n",
       "      <td>A664235_0</td>\n",
       "      <td>Transfer</td>\n",
       "      <td>October</td>\n",
       "      <td>unknown</td>\n",
       "      <td>unknown</td>\n",
       "      <td>True</td>\n",
       "      <td>Domestic Shorthair</td>\n",
       "      <td>NaN</td>\n",
       "      <td>NaN</td>\n",
       "      <td>7 days</td>\n",
       "      <td>Orange</td>\n",
       "      <td>White</td>\n",
       "    </tr>\n",
       "    <tr>\n",
       "      <th>2</th>\n",
       "      <td>A664236</td>\n",
       "      <td>NaN</td>\n",
       "      <td>2013-10-01 08:33:00</td>\n",
       "      <td>Abia in Austin (TX)</td>\n",
       "      <td>Stray</td>\n",
       "      <td>Normal</td>\n",
       "      <td>Cat</td>\n",
       "      <td>0</td>\n",
       "      <td>A664236_0</td>\n",
       "      <td>Transfer</td>\n",
       "      <td>October</td>\n",
       "      <td>unknown</td>\n",
       "      <td>unknown</td>\n",
       "      <td>True</td>\n",
       "      <td>Domestic Shorthair</td>\n",
       "      <td>NaN</td>\n",
       "      <td>NaN</td>\n",
       "      <td>7 days</td>\n",
       "      <td>Orange</td>\n",
       "      <td>White</td>\n",
       "    </tr>\n",
       "    <tr>\n",
       "      <th>3</th>\n",
       "      <td>A664237</td>\n",
       "      <td>NaN</td>\n",
       "      <td>2013-10-01 08:33:00</td>\n",
       "      <td>Abia in Austin (TX)</td>\n",
       "      <td>Stray</td>\n",
       "      <td>Normal</td>\n",
       "      <td>Cat</td>\n",
       "      <td>0</td>\n",
       "      <td>A664237_0</td>\n",
       "      <td>Transfer</td>\n",
       "      <td>October</td>\n",
       "      <td>unknown</td>\n",
       "      <td>unknown</td>\n",
       "      <td>True</td>\n",
       "      <td>Domestic Shorthair</td>\n",
       "      <td>NaN</td>\n",
       "      <td>NaN</td>\n",
       "      <td>7 days</td>\n",
       "      <td>Orange</td>\n",
       "      <td>White</td>\n",
       "    </tr>\n",
       "    <tr>\n",
       "      <th>4</th>\n",
       "      <td>A664233</td>\n",
       "      <td>Stevie</td>\n",
       "      <td>2013-10-01 08:53:00</td>\n",
       "      <td>7405 Springtime in Austin (TX)</td>\n",
       "      <td>Stray</td>\n",
       "      <td>Injured</td>\n",
       "      <td>Dog</td>\n",
       "      <td>0</td>\n",
       "      <td>A664233_0</td>\n",
       "      <td>Euthanasia</td>\n",
       "      <td>October</td>\n",
       "      <td>False</td>\n",
       "      <td>female</td>\n",
       "      <td>True</td>\n",
       "      <td>Pit Bull</td>\n",
       "      <td>NaN</td>\n",
       "      <td>NaN</td>\n",
       "      <td>1095 days</td>\n",
       "      <td>Blue</td>\n",
       "      <td>White</td>\n",
       "    </tr>\n",
       "  </tbody>\n",
       "</table>\n",
       "</div>"
      ],
      "text/plain": [
       "  animal_id    name     datetime_intake                  found_location  \\\n",
       "0   A521520    Nina 2013-10-01 07:51:00         Norht Ec in Austin (TX)   \n",
       "1   A664235     NaN 2013-10-01 08:33:00             Abia in Austin (TX)   \n",
       "2   A664236     NaN 2013-10-01 08:33:00             Abia in Austin (TX)   \n",
       "3   A664237     NaN 2013-10-01 08:33:00             Abia in Austin (TX)   \n",
       "4   A664233  Stevie 2013-10-01 08:53:00  7405 Springtime in Austin (TX)   \n",
       "\n",
       "  intake_type intake_condition animal_type  n_previous_stays    stay_id  \\\n",
       "0       Stray           Normal         Dog                 0  A521520_0   \n",
       "1       Stray           Normal         Cat                 0  A664235_0   \n",
       "2       Stray           Normal         Cat                 0  A664236_0   \n",
       "3       Stray           Normal         Cat                 0  A664237_0   \n",
       "4       Stray          Injured         Dog                 0  A664233_0   \n",
       "\n",
       "      outcome_type month_intake    fixed      sex  breed_mixed  \\\n",
       "0  Return to Owner      October     True   female         True   \n",
       "1         Transfer      October  unknown  unknown         True   \n",
       "2         Transfer      October  unknown  unknown         True   \n",
       "3         Transfer      October  unknown  unknown         True   \n",
       "4       Euthanasia      October    False   female         True   \n",
       "\n",
       "              breed_1        breed_2 breed_3 age_intake color_1 color_2  \n",
       "0      Border Terrier  Border Collie     NaN  2555 days   White     Tan  \n",
       "1  Domestic Shorthair            NaN     NaN     7 days  Orange   White  \n",
       "2  Domestic Shorthair            NaN     NaN     7 days  Orange   White  \n",
       "3  Domestic Shorthair            NaN     NaN     7 days  Orange   White  \n",
       "4            Pit Bull            NaN     NaN  1095 days    Blue   White  "
      ]
     },
     "execution_count": 60,
     "metadata": {},
     "output_type": "execute_result"
    }
   ],
   "source": [
    "df.head()"
   ]
  },
  {
   "cell_type": "code",
   "execution_count": 61,
   "id": "60814f8c",
   "metadata": {},
   "outputs": [],
   "source": [
    "# get dogs\n",
    "df = df[df.animal_type == 'Dog']"
   ]
  },
  {
   "cell_type": "markdown",
   "id": "29cbd1ea",
   "metadata": {},
   "source": [
    "#### add a feature: breed group\n",
    "source: https://www.akc.org/public-education/resources/general-tips-information/dog-breeds-sorted-groups/"
   ]
  },
  {
   "cell_type": "code",
   "execution_count": 95,
   "id": "501e8b46",
   "metadata": {},
   "outputs": [],
   "source": [
    "akc_breed_group_dct = {'Border Terrier': 'Terrier', \n",
    "'Pit Bull': 'Other', \n",
    "'Border Collie': 'Herding', \n",
    "'Podengo Pequeno': 'Hound', \n",
    "'Chihuahua Shorthar': 'Toy',\n",
    "'Anatol Shepherd': 'Working',\n",
    "'Weimaraner': 'Sporting',\n",
    "'Labrador Retriever': 'Sporting',\n",
    "'Great Pyrenees': 'Working',  \n",
    "'Cairn Terrier': 'Terrier', \n",
    "'Dachshund': 'Hound', \n",
    "'German Shepherd': 'Herding', \n",
    "'Black': 'Other', \n",
    "'Siberian Husky': 'Working', \n",
    "'Miniature Poodle': 'Toy', \n",
    "'Yorkshire Terrier': 'Toy', \n",
    "'Norfolk Terrier': 'Terrier', \n",
    "'Australian Cattle Dog': 'Herding', \n",
    "'Australian Shepherd': 'Herding', \n",
    "'Belgian Malinois': 'Herding', \n",
    "'Jack Russell Terrier': 'Terrier', \n",
    "'Doberman Pinsch': 'Working', \n",
    "'Japanese Chin': 'Toy', \n",
    "'Staffordshire': 'Terrier', \n",
    "'Welsh Terrier': 'Terrier', \n",
    "'Shetland Sheepdog': 'Herding', \n",
    "'Vizsla': 'Sporting', \n",
    "'Rottweiler': 'Working', \n",
    "'American Staffordshire Terrier': 'Terrier', \n",
    "'American Bulldog': 'Foundation Stock Service', \n",
    "'Chinese Sharpei': 'Non-sporting', \n",
    "'Great Dane': 'Working', \n",
    "'Harrier': 'Hound', \n",
    "'Flat Coat Retriever': 'Sporting', \n",
    "'Dachshund Wirehair': 'Hound', \n",
    "'Leonberger': 'Working', \n",
    "'Dachshund Longhair': 'Hound', \n",
    "'Chesa Bay Retr': 'Sporting', \n",
    "'Mastiff': 'Working',\n",
    "'Chihuahua Longhair': 'Toy', \n",
    "'Rat Terrier': 'Terrier', \n",
    "'Greyhound': 'Hound', \n",
    "'Boxer': 'Working', \n",
    "'Bulldog': 'Non-sporting', \n",
    "'Miniature Pinscher': 'Toy', \n",
    "'Carolina Dog': 'Foundation Stock Service', \n",
    "'Toy Poodle': 'Toy', \n",
    "'Pointer': 'Sporting', \n",
    "'Queensland Heeler': 'Other', \n",
    "'American Pit Bull Terrier': 'Other', \n",
    "'Miniature Schnauzer': 'Terrier', \n",
    "'Beagle': 'Hound', \n",
    "'Kuvasz': 'Working', \n",
    "'Shih Tzu': 'Toy', \n",
    "'Pekingese': 'Toy', \n",
    "'Catahoula': 'Foundation Stock Service', \n",
    "'Maltese': 'Toy', \n",
    "'Australian Kelpie': 'Foundation Stock Service', \n",
    "'Basset Hound': 'Hound', \n",
    "'Treeing Walker Coonhound': 'Other', \n",
    "'Bull Terrier': 'Terrier', \n",
    "'American Foxhound': 'Hound', \n",
    "'Chow Chow': 'Non-sporting', \n",
    "'Italian Greyhound': 'Toy', \n",
    "'Boston Terrier': 'Non-sporting', \n",
    "'Blue Lacy': 'Other', \n",
    "'Golden Retriever': 'Sporting', \n",
    "'Collie Rough': 'Herding', \n",
    "'Plott Hound': 'Hound', \n",
    "'Redbone Hound': 'Hound', \n",
    "'Cocker Spaniel': 'Sporting', \n",
    "'English Springer Spaniel': 'Sporting', \n",
    "'Black Mouth Cur': 'Other', \n",
    "'Basenji': 'Hound', \n",
    "'Pug': 'Toy', \n",
    "'Parson Russell Terrier': 'Terrier', \n",
    "'English Pointer': 'Sporting', \n",
    "'Skye Terrier': 'Terrier', \n",
    "'Airedale Terrier': 'Terrier', \n",
    "'Cardigan Welsh Corgi': 'Herding', \n",
    "'Finnish Spitz': 'Non-sporting', \n",
    "'English Setter': 'Sporting', \n",
    "'Alaskan Husky': 'Working', \n",
    "'Rhod Ridgeback': 'Hound', \n",
    "'Newfoundland': 'Working', \n",
    "'Brittany': 'Sporting', \n",
    "'Collie Smooth': 'Herding', \n",
    "'Port Water Dog': 'Working', \n",
    "'Bull Terrier Miniature': 'Terrier', \n",
    "'Lhasa Apso': 'Non-sporting', \n",
    "'Norwich Terrier': 'Terrier', \n",
    "'Whippet': 'Hound', \n",
    "'Old English Sheepdog': 'Herding', \n",
    "'Shiba Inu': 'Non-sporting', \n",
    "'Bullmastiff': 'Working', \n",
    "'Ibizan Hound': 'Hound', \n",
    "'Scottish Terrier': 'Terrier', \n",
    "'English Foxhound': 'Hound', \n",
    "'Silky Terrier': 'Toy', \n",
    "'Keeshond': 'Non-sporting', \n",
    "'English Bulldog': 'Other', \n",
    "'Pomeranian': 'Toy', \n",
    "'Havanese': 'Toy', \n",
    "'Cane Corso': 'Working', \n",
    "'Soft Coated Wheaten Terrier': 'Terrier', \n",
    "'Schipperke': 'Non-sporting', \n",
    "'Pharaoh Hound': 'Hound', \n",
    "'American Eskimo': 'Non-sporting', \n",
    "'Pembroke Welsh Corgi': 'Herding', \n",
    "'Eng Toy Spaniel': 'Toy', \n",
    "'Wire Hair Fox Terrier': 'Terrier', \n",
    "'Standard Schnauzer': 'Working', \n",
    "'West Highland': 'Terrier', \n",
    "'Bruss Griffon': 'Toy', \n",
    "'Pbgv': 'Hound', \n",
    "'Entlebucher': 'Herding', \n",
    "'German Shorthair Pointer': 'Sporting', \n",
    "'Picardy Sheepdog': 'Herding', \n",
    "'Beauceron': 'Herding', \n",
    "'Standard Poodle': 'Non-sporting', \n",
    "'Bearded Collie': 'Herding', \n",
    "'Papillon': 'Toy', \n",
    "'Bichon Frise': 'Non-sporting', \n",
    "'Cavalier Span': 'Toy', \n",
    "'French Bulldog': 'Non-sporting', \n",
    "'St. Bernard Rough Coat': 'Working', \n",
    "'Alaskan Malamute': 'Working', \n",
    "'Irish Terrier': 'Terrier', \n",
    "'Bloodhound': 'Hound', \n",
    "'Akita': 'Working', \n",
    "'Landseer': 'Working', \n",
    "'Swedish Vallhund': 'Working', \n",
    "'Bluetick Hound': 'Hound', \n",
    "'Jindo': 'Foundation Stock Service', \n",
    "'Afghan Hound': 'Hound', \n",
    "'Canaan Dog': 'Herding', \n",
    "'German Pinscher': 'Working', \n",
    "'Affenpinscher': 'Toy', \n",
    "'Manchester Terrier': 'Toy', \n",
    "'Dogue De Bordeaux': 'Working', \n",
    "'Tibetan Terrier': 'Non-sporting', \n",
    "'Boerboel': 'Working', \n",
    "'Irish Wolfhound': 'Hound', \n",
    "'Coton De Tulear': 'Non-sporting', \n",
    "'Dogo Argentino': 'Working', \n",
    "'German Wirehaired Pointer': 'Sporting', \n",
    "'Dutch Shepherd': 'Miscellaneous Class', \n",
    "'Belgian Sheepdog': 'Herding', \n",
    "'Bernese Mountain Dog': 'Working', \n",
    "'Dalmatian': 'Non-sporting', \n",
    "'Feist': 'Other', \n",
    "'Old English Bulldog': 'Other', \n",
    "'Toy Fox Terrier': 'Toy', \n",
    "'Smooth Fox Terrier': 'Terrier', \n",
    "'St. Bernard Smooth Coat': 'Working', \n",
    "'Welsh Springer Spaniel': 'Sporting', \n",
    "'Boykin Span': 'Sporting', \n",
    "'Nova Scotia Duck Tolling Retriever': 'Sporting', \n",
    "'Chinese Crested': 'Toy', \n",
    "'Spinone Italiano': 'Sporting', \n",
    "'Samoyed': 'Working', \n",
    "'English Coonhound': 'Hound', \n",
    "'Presa Canario': 'Foundation Stock Service', \n",
    "'Wirehaired Pointing Griffon': 'Sporting', \n",
    "'Australian Terrier': 'Terrier', \n",
    "'Greater Swiss Mountain Dog': 'Working', \n",
    "'Gordon Setter': 'Sporting', \n",
    "'Glen Of Imaal': 'Terrier', \n",
    "'Otterhound': 'Hound', \n",
    "'Saluki': 'Hound', \n",
    "'Tibetan Spaniel': 'Non-sporting', \n",
    "'Belgian Tervuren': 'Herding', \n",
    "'Field Spaniel': 'Sporting', \n",
    "'Patterdale Terr': 'Other', \n",
    "'Treeing Cur': 'Foundation Stock Service', \n",
    "'Dandie Dinmont': 'Terrier', \n",
    "'Schnauzer Giant': 'Working', \n",
    "'English Cocker Spaniel': 'Sporting', \n",
    "'Irish Setter': 'Sporting', \n",
    "'Swiss Hound': 'Other', \n",
    "'English Shepherd': 'Herding', \n",
    "'Sealyham Terr': 'Terrier', \n",
    "'Bedlington Terr': 'Terrier', \n",
    "'Unknown': 'Unknown', \n",
    "'Lowchen': 'Non-sporting', \n",
    "'Spanish Mastiff': 'Foundation Stock Service', \n",
    "'Dachshund Stan': 'Hound', \n",
    "'Mexican Hairless': 'Other', \n",
    "'Neapolitan Mastiff': 'Working', \n",
    "'Treeing Tennesse Brindle': 'Foundation Stock Service', \n",
    "'Norwegian Elkhound': 'Hound', \n",
    "'Akbash': 'Other', \n",
    "'Hovawart': 'Foundation Stock Service', \n",
    "'Sussex Span': 'Sporting', \n",
    "'Lakeland Terrier': 'Terrier', \n",
    "'Grand Basset Griffon Vendeen': 'Hound', \n",
    "'Bouv Flandres': 'Herding', \n",
    "'Clumber Spaniel': 'Sporting', \n",
    "'Tibetan Mastiff': 'Working', \n",
    "'Briard': 'Herding', \n",
    "'Spanish Water Dog': 'Herding', \n",
    "'Alaskan Klee Kai': 'Foundation Stock Service', \n",
    "'Kangal': 'Working', \n",
    "'Dutch Sheepdog': 'Miscellaneous Class', \n",
    "'Wolf Hybrid': 'Other', \n",
    "'Wirehaired Vizsla': 'Sporting', \n",
    "'Chihuahua Shorthair': 'Toy'}\n",
    "\n",
    "df['akc_breed_group'] = df.breed_1.map(akc_breed_group_dct)"
   ]
  },
  {
   "cell_type": "markdown",
   "id": "f91517f5",
   "metadata": {},
   "source": [
    "Dropping columns not used for modeling at this time:\n",
    "- datetime_intake: because it is unique to each animal and not relevant to future observations\n",
    "- found_location: because we don't have a way of turning it into a useful data type at this time\n",
    "- name: too many unique values to be useful without additional engineering\n",
    "- animal_id: unique to each animal\n",
    "- breed_2, breed_3: too many nulls\n",
    "- color_2: too many nulls"
   ]
  },
  {
   "cell_type": "code",
   "execution_count": null,
   "id": "7b7e3aa4",
   "metadata": {},
   "outputs": [],
   "source": [
    "# drop columns not used for modeling at this time\n",
    "df = df.drop(columns=['datetime_intake', 'found_location', 'name', 'breed_2', 'breed_3', 'color_2'])"
   ]
  },
  {
   "cell_type": "code",
   "execution_count": null,
   "id": "39d560d2",
   "metadata": {},
   "outputs": [],
   "source": [
    "# drop rows in order to focus on most common outcome types\n",
    "# also drop 'Return to Owner' since this can only happen in the first 4 days (i know this from previous experience)\n",
    "df = df[df.outcome_type.isin(['Adoption', 'Transfer'])]"
   ]
  },
  {
   "cell_type": "code",
   "execution_count": null,
   "id": "f8ca1538",
   "metadata": {},
   "outputs": [],
   "source": [
    "df.head()"
   ]
  },
  {
   "cell_type": "markdown",
   "id": "15423d98",
   "metadata": {},
   "source": [
    "# Prep for modeling"
   ]
  },
  {
   "cell_type": "code",
   "execution_count": null,
   "id": "7b4d85f9",
   "metadata": {},
   "outputs": [],
   "source": [
    "# columns to hot code\n",
    "categorical_columns = ['fixed', 'breed_mixed', 'intake_type', 'intake_condition', 'animal_type', 'month_intake', 'sex', 'breed_1', 'color_1']\n",
    "# hot coding dummy variables\n",
    "for col in categorical_columns:\n",
    "    dummy_df = pd.get_dummies(df[col],\n",
    "                              prefix=df[col].name,\n",
    "                              drop_first=True,\n",
    "                              dummy_na=False)\n",
    "    df = pd.concat([df, dummy_df], axis=1)\n",
    "    # drop original column\n",
    "    df = df.drop(columns=col)"
   ]
  },
  {
   "cell_type": "code",
   "execution_count": null,
   "id": "99fd8f9e",
   "metadata": {},
   "outputs": [],
   "source": [
    "# turn age_intake timedelta into float\n",
    "df['age_intake'] = df.age_intake / pd.Timedelta(days=1)"
   ]
  },
  {
   "cell_type": "code",
   "execution_count": null,
   "id": "2d9b66d0",
   "metadata": {},
   "outputs": [],
   "source": [
    "df.head()"
   ]
  },
  {
   "cell_type": "code",
   "execution_count": null,
   "id": "01b0ce6b",
   "metadata": {},
   "outputs": [],
   "source": [
    "def aac_get_dogs(df):\n",
    "    df = df[df.animal_type == 'Dog']\n",
    "    return df"
   ]
  },
  {
   "cell_type": "code",
   "execution_count": null,
   "id": "c586b019",
   "metadata": {},
   "outputs": [],
   "source": [
    "def aac_prep_for_modeling(df):\n",
    "    # drop columns not used for modeling at this time\n",
    "    df = df.drop(columns=['datetime_intake', 'found_location', 'name', 'animal_id', 'breed_2', 'breed_3', 'color_2', 'name'])\n",
    "    # drop rows in order to focus on most common outcome types\n",
    "    df = df[df.outcome_type.isin(['Adoption', 'Transfer', 'Return to Owner'])]\n",
    "    # columns to hot code\n",
    "    categorical_columns = ['fixed', 'breed_mixed', 'intake_type', 'intake_condition', 'animal_type', 'month_intake', 'sex', 'breed_1', 'color_1']\n",
    "    # hot coding dummy variables\n",
    "    for col in categorical_columns:\n",
    "        dummy_df = pd.get_dummies(df[col],\n",
    "                                  prefix=df[col].name,\n",
    "                                  drop_first=True,\n",
    "                                  dummy_na=False)\n",
    "        df = pd.concat([df, dummy_df], axis=1)\n",
    "        # drop original column\n",
    "        df = df.drop(columns=col)\n",
    "    # turn age_intake timedelta into float\n",
    "    df['age_intake'] = df.age_intake / pd.Timedelta(days=1)\n",
    "    return df"
   ]
  },
  {
   "cell_type": "code",
   "execution_count": null,
   "id": "5dc16c0f",
   "metadata": {},
   "outputs": [],
   "source": []
  }
 ],
 "metadata": {
  "kernelspec": {
   "display_name": "Python 3 (ipykernel)",
   "language": "python",
   "name": "python3"
  },
  "language_info": {
   "codemirror_mode": {
    "name": "ipython",
    "version": 3
   },
   "file_extension": ".py",
   "mimetype": "text/x-python",
   "name": "python",
   "nbconvert_exporter": "python",
   "pygments_lexer": "ipython3",
   "version": "3.9.7"
  }
 },
 "nbformat": 4,
 "nbformat_minor": 5
}
