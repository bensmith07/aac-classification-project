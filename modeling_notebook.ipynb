{
 "cells": [
  {
   "cell_type": "code",
   "execution_count": 1,
   "id": "47d2ceaa",
   "metadata": {},
   "outputs": [],
   "source": [
    "import pandas as pd\n",
    "import numpy as np\n",
    "import seaborn as sns\n",
    "import matplotlib.pyplot as plt\n",
    "\n",
    "import warnings\n",
    "warnings.filterwarnings('ignore')\n",
    "\n",
    "pd.set_option('display.max_columns', 100)\n",
    "pd.set_option('display.precision', 3)\n",
    "pd.option_context('display.max_rows', 50)\n",
    "\n",
    "from sklearn.linear_model import LinearRegression\n",
    "from sklearn.feature_selection import RFE\n",
    "from sklearn.tree import DecisionTreeClassifier, plot_tree\n",
    "from sklearn.ensemble import RandomForestClassifier\n",
    "from sklearn.neighbors import KNeighborsClassifier\n",
    "from sklearn.linear_model import LogisticRegression\n",
    "import sklearn as sk\n",
    "\n",
    "import prepare\n",
    "import model\n",
    "\n",
    "random_state = 42"
   ]
  },
  {
   "cell_type": "code",
   "execution_count": 2,
   "id": "f168193c",
   "metadata": {},
   "outputs": [],
   "source": [
    "# get the data\n",
    "intakes = pd.read_csv('aac_intakes_20220304.csv')\n",
    "outcomes = pd.read_csv('aac_outcomes_20220304.csv')"
   ]
  },
  {
   "cell_type": "code",
   "execution_count": 3,
   "id": "e1d1cb8d",
   "metadata": {},
   "outputs": [],
   "source": [
    "df = prepare.aac_prep(intakes, outcomes)\n",
    "df = prepare.aac_get_dogs(df)"
   ]
  },
  {
   "cell_type": "code",
   "execution_count": 4,
   "id": "b52c33a3",
   "metadata": {},
   "outputs": [],
   "source": [
    "target = 'outcome_type'\n",
    "positive = 'Adoption'"
   ]
  },
  {
   "cell_type": "code",
   "execution_count": 5,
   "id": "5c46af8c",
   "metadata": {},
   "outputs": [
    {
     "data": {
      "text/plain": [
       "(53507, 18)"
      ]
     },
     "execution_count": 5,
     "metadata": {},
     "output_type": "execute_result"
    }
   ],
   "source": [
    "df.shape"
   ]
  },
  {
   "cell_type": "code",
   "execution_count": 6,
   "id": "946548e1",
   "metadata": {},
   "outputs": [
    {
     "data": {
      "text/html": [
       "<div>\n",
       "<style scoped>\n",
       "    .dataframe tbody tr th:only-of-type {\n",
       "        vertical-align: middle;\n",
       "    }\n",
       "\n",
       "    .dataframe tbody tr th {\n",
       "        vertical-align: top;\n",
       "    }\n",
       "\n",
       "    .dataframe thead th {\n",
       "        text-align: right;\n",
       "    }\n",
       "</style>\n",
       "<table border=\"1\" class=\"dataframe\">\n",
       "  <thead>\n",
       "    <tr style=\"text-align: right;\">\n",
       "      <th></th>\n",
       "      <th>intake_type</th>\n",
       "      <th>intake_condition</th>\n",
       "      <th>animal_type</th>\n",
       "      <th>n_previous_stays</th>\n",
       "      <th>stay_id</th>\n",
       "      <th>outcome_type</th>\n",
       "      <th>month_intake</th>\n",
       "      <th>fixed</th>\n",
       "      <th>sex</th>\n",
       "      <th>breed_mixed</th>\n",
       "      <th>breed_1</th>\n",
       "      <th>color_1</th>\n",
       "      <th>age_intake</th>\n",
       "      <th>found_in_austin</th>\n",
       "      <th>found_in_travis</th>\n",
       "      <th>found_outside_jurisdiction</th>\n",
       "      <th>found_other</th>\n",
       "      <th>akc_breed_group</th>\n",
       "    </tr>\n",
       "  </thead>\n",
       "  <tbody>\n",
       "    <tr>\n",
       "      <th>8</th>\n",
       "      <td>Stray</td>\n",
       "      <td>Normal</td>\n",
       "      <td>Dog</td>\n",
       "      <td>0</td>\n",
       "      <td>A664257_0</td>\n",
       "      <td>Adoption</td>\n",
       "      <td>October</td>\n",
       "      <td>False</td>\n",
       "      <td>female</td>\n",
       "      <td>True</td>\n",
       "      <td>Podengo Pequeno</td>\n",
       "      <td>Black</td>\n",
       "      <td>1460 days</td>\n",
       "      <td>False</td>\n",
       "      <td>True</td>\n",
       "      <td>False</td>\n",
       "      <td>False</td>\n",
       "      <td>Hound</td>\n",
       "    </tr>\n",
       "    <tr>\n",
       "      <th>9</th>\n",
       "      <td>Stray</td>\n",
       "      <td>Normal</td>\n",
       "      <td>Dog</td>\n",
       "      <td>0</td>\n",
       "      <td>A664266_0</td>\n",
       "      <td>Transfer</td>\n",
       "      <td>October</td>\n",
       "      <td>False</td>\n",
       "      <td>female</td>\n",
       "      <td>True</td>\n",
       "      <td>Chihuahua Shorthair</td>\n",
       "      <td>Buff</td>\n",
       "      <td>365 days</td>\n",
       "      <td>True</td>\n",
       "      <td>False</td>\n",
       "      <td>False</td>\n",
       "      <td>False</td>\n",
       "      <td>Toy</td>\n",
       "    </tr>\n",
       "    <tr>\n",
       "      <th>14</th>\n",
       "      <td>Owner Surrender</td>\n",
       "      <td>Injured</td>\n",
       "      <td>Dog</td>\n",
       "      <td>0</td>\n",
       "      <td>A651630_0</td>\n",
       "      <td>Adoption</td>\n",
       "      <td>October</td>\n",
       "      <td>True</td>\n",
       "      <td>female</td>\n",
       "      <td>True</td>\n",
       "      <td>Labrador Retriever</td>\n",
       "      <td>Tan</td>\n",
       "      <td>2190 days</td>\n",
       "      <td>False</td>\n",
       "      <td>False</td>\n",
       "      <td>True</td>\n",
       "      <td>False</td>\n",
       "      <td>Sporting</td>\n",
       "    </tr>\n",
       "    <tr>\n",
       "      <th>16</th>\n",
       "      <td>Stray</td>\n",
       "      <td>Normal</td>\n",
       "      <td>Dog</td>\n",
       "      <td>0</td>\n",
       "      <td>A664269_0</td>\n",
       "      <td>Adoption</td>\n",
       "      <td>October</td>\n",
       "      <td>True</td>\n",
       "      <td>male</td>\n",
       "      <td>True</td>\n",
       "      <td>Great Pyrenees</td>\n",
       "      <td>White</td>\n",
       "      <td>730 days</td>\n",
       "      <td>True</td>\n",
       "      <td>False</td>\n",
       "      <td>False</td>\n",
       "      <td>False</td>\n",
       "      <td>Working</td>\n",
       "    </tr>\n",
       "    <tr>\n",
       "      <th>24</th>\n",
       "      <td>Stray</td>\n",
       "      <td>Normal</td>\n",
       "      <td>Dog</td>\n",
       "      <td>0</td>\n",
       "      <td>A664272_0</td>\n",
       "      <td>Transfer</td>\n",
       "      <td>October</td>\n",
       "      <td>True</td>\n",
       "      <td>female</td>\n",
       "      <td>True</td>\n",
       "      <td>Cairn Terrier</td>\n",
       "      <td>Brown</td>\n",
       "      <td>365 days</td>\n",
       "      <td>True</td>\n",
       "      <td>False</td>\n",
       "      <td>False</td>\n",
       "      <td>False</td>\n",
       "      <td>Terrier</td>\n",
       "    </tr>\n",
       "  </tbody>\n",
       "</table>\n",
       "</div>"
      ],
      "text/plain": [
       "        intake_type intake_condition animal_type  n_previous_stays    stay_id  \\\n",
       "8             Stray           Normal         Dog                 0  A664257_0   \n",
       "9             Stray           Normal         Dog                 0  A664266_0   \n",
       "14  Owner Surrender          Injured         Dog                 0  A651630_0   \n",
       "16            Stray           Normal         Dog                 0  A664269_0   \n",
       "24            Stray           Normal         Dog                 0  A664272_0   \n",
       "\n",
       "   outcome_type month_intake  fixed     sex  breed_mixed              breed_1  \\\n",
       "8      Adoption      October  False  female         True      Podengo Pequeno   \n",
       "9      Transfer      October  False  female         True  Chihuahua Shorthair   \n",
       "14     Adoption      October   True  female         True   Labrador Retriever   \n",
       "16     Adoption      October   True    male         True       Great Pyrenees   \n",
       "24     Transfer      October   True  female         True        Cairn Terrier   \n",
       "\n",
       "   color_1 age_intake  found_in_austin  found_in_travis  \\\n",
       "8    Black  1460 days            False             True   \n",
       "9     Buff   365 days             True            False   \n",
       "14     Tan  2190 days            False            False   \n",
       "16   White   730 days             True            False   \n",
       "24   Brown   365 days             True            False   \n",
       "\n",
       "    found_outside_jurisdiction  found_other akc_breed_group  \n",
       "8                        False        False           Hound  \n",
       "9                        False        False             Toy  \n",
       "14                        True        False        Sporting  \n",
       "16                       False        False         Working  \n",
       "24                       False        False         Terrier  "
      ]
     },
     "execution_count": 6,
     "metadata": {},
     "output_type": "execute_result"
    }
   ],
   "source": [
    "df.head()"
   ]
  },
  {
   "cell_type": "markdown",
   "id": "0663bc4c",
   "metadata": {},
   "source": [
    "#### Define all but the top 10 breeds as \"other\" to reduce dimensionality"
   ]
  },
  {
   "cell_type": "code",
   "execution_count": 7,
   "id": "26354664",
   "metadata": {},
   "outputs": [],
   "source": [
    "top_10_breeds = list(df.breed_1.value_counts().head(10).index)\n",
    "df['breed_1_reduced'] = np.where(df.breed_1.isin(top_10_breeds), df.breed_1, 'Other')"
   ]
  },
  {
   "cell_type": "markdown",
   "id": "8ceca86b",
   "metadata": {},
   "source": [
    "#### Do the same with colors"
   ]
  },
  {
   "cell_type": "code",
   "execution_count": 8,
   "id": "cdf80490",
   "metadata": {},
   "outputs": [],
   "source": [
    "top_10_colors = list(df.color_1.value_counts().head(10).index)\n",
    "df['color_1_reduced'] = np.where(df.color_1.isin(top_10_colors), df.color_1, 'Other')"
   ]
  },
  {
   "cell_type": "markdown",
   "id": "bc19af63",
   "metadata": {},
   "source": [
    "### Prep for Modeling"
   ]
  },
  {
   "cell_type": "code",
   "execution_count": 9,
   "id": "75e07f1d",
   "metadata": {},
   "outputs": [],
   "source": [
    "df = prepare.aac_prep_for_modeling(df)"
   ]
  },
  {
   "cell_type": "code",
   "execution_count": 10,
   "id": "34fa99fc",
   "metadata": {},
   "outputs": [
    {
     "data": {
      "text/plain": [
       "(53507, 70)"
      ]
     },
     "execution_count": 10,
     "metadata": {},
     "output_type": "execute_result"
    }
   ],
   "source": [
    "df.shape"
   ]
  },
  {
   "cell_type": "markdown",
   "id": "ded2950e",
   "metadata": {},
   "source": [
    "# Modeling"
   ]
  },
  {
   "cell_type": "markdown",
   "id": "df5efa81",
   "metadata": {},
   "source": [
    "### Train/Validate/Test Split"
   ]
  },
  {
   "cell_type": "code",
   "execution_count": 11,
   "id": "9857b16f",
   "metadata": {},
   "outputs": [
    {
     "name": "stdout",
     "output_type": "stream",
     "text": [
      "train\t n = 29963\n",
      "validate n = 12842\n",
      "test\t n = 10702\n"
     ]
    }
   ],
   "source": [
    "train, validate, test = prepare.train_validate_test_split(df)"
   ]
  },
  {
   "cell_type": "code",
   "execution_count": 12,
   "id": "62f4c5c2",
   "metadata": {},
   "outputs": [],
   "source": [
    "train, validate, test = prepare.scale_aac(train, validate, test)"
   ]
  },
  {
   "cell_type": "markdown",
   "id": "299127f2",
   "metadata": {},
   "source": [
    "#### establish infrastructure for storage"
   ]
  },
  {
   "cell_type": "code",
   "execution_count": 13,
   "id": "c38e41a7",
   "metadata": {},
   "outputs": [],
   "source": [
    "model_info = pd.DataFrame()\n",
    "model_results = pd.DataFrame()\n",
    "model_number = 0"
   ]
  },
  {
   "cell_type": "markdown",
   "id": "1425b354",
   "metadata": {},
   "source": [
    "### Baseline"
   ]
  },
  {
   "cell_type": "code",
   "execution_count": 14,
   "id": "45f50573",
   "metadata": {},
   "outputs": [
    {
     "data": {
      "text/plain": [
       "0    Adoption\n",
       "dtype: object"
      ]
     },
     "execution_count": 14,
     "metadata": {},
     "output_type": "execute_result"
    }
   ],
   "source": [
    "df[target].mode()"
   ]
  },
  {
   "cell_type": "code",
   "execution_count": 15,
   "id": "57413263",
   "metadata": {},
   "outputs": [],
   "source": [
    "model_number, model_info, model_results = model.run_baseline(train,\n",
    "                                                       validate,\n",
    "                                                       target,\n",
    "                                                       positive,\n",
    "                                                       model_number,\n",
    "                                                       model_info,\n",
    "                                                       model_results)"
   ]
  },
  {
   "cell_type": "markdown",
   "id": "d41b0531",
   "metadata": {},
   "source": [
    "### RFE Decision Tree"
   ]
  },
  {
   "cell_type": "code",
   "execution_count": 16,
   "id": "9202bd28",
   "metadata": {},
   "outputs": [
    {
     "name": "stdout",
     "output_type": "stream",
     "text": [
      "Generating 1 of 88 models.     \n",
      "Generating 2 of 88 models.     \n",
      "Generating 3 of 88 models.     \n",
      "Generating 4 of 88 models.     \n",
      "Generating 5 of 88 models.     \n",
      "Generating 6 of 88 models.     \n",
      "Generating 7 of 88 models.     \n",
      "Generating 8 of 88 models.     \n",
      "Generating 9 of 88 models.     \n",
      "Generating 10 of 88 models.     \n",
      "Generating 11 of 88 models.     \n",
      "Generating 12 of 88 models.     \n",
      "Generating 13 of 88 models.     \n",
      "Generating 14 of 88 models.     \n",
      "Generating 15 of 88 models.     \n",
      "Generating 16 of 88 models.     \n",
      "Generating 17 of 88 models.     \n",
      "Generating 18 of 88 models.     \n",
      "Generating 19 of 88 models.     \n",
      "Generating 20 of 88 models.     \n",
      "Generating 21 of 88 models.     \n",
      "Generating 22 of 88 models.     \n",
      "Generating 23 of 88 models.     \n",
      "Generating 24 of 88 models.     \n",
      "Generating 25 of 88 models.     \n",
      "Generating 26 of 88 models.     \n",
      "Generating 27 of 88 models.     \n",
      "Generating 28 of 88 models.     \n",
      "Generating 29 of 88 models.     \n",
      "Generating 30 of 88 models.     \n",
      "Generating 31 of 88 models.     \n",
      "Generating 32 of 88 models.     \n",
      "Generating 33 of 88 models.     \n",
      "Generating 34 of 88 models.     \n",
      "Generating 35 of 88 models.     \n",
      "Generating 36 of 88 models.     \n",
      "Generating 37 of 88 models.     \n",
      "Generating 38 of 88 models.     \n",
      "Generating 39 of 88 models.     \n",
      "Generating 40 of 88 models.     \n",
      "Generating 41 of 88 models.     \n",
      "Generating 42 of 88 models.     \n",
      "Generating 43 of 88 models.     \n",
      "Generating 44 of 88 models.     \n",
      "Generating 45 of 88 models.     \n",
      "Generating 46 of 88 models.     \n",
      "Generating 47 of 88 models.     \n",
      "Generating 48 of 88 models.     \n",
      "Generating 49 of 88 models.     \n",
      "Generating 50 of 88 models.     \n",
      "Generating 51 of 88 models.     \n",
      "Generating 52 of 88 models.     \n",
      "Generating 53 of 88 models.     \n",
      "Generating 54 of 88 models.     \n",
      "Generating 55 of 88 models.     \n",
      "Generating 56 of 88 models.     \n",
      "Generating 57 of 88 models.     \n",
      "Generating 58 of 88 models.     \n",
      "Generating 59 of 88 models.     \n",
      "Generating 60 of 88 models.     \n",
      "Generating 61 of 88 models.     \n",
      "Generating 62 of 88 models.     \n",
      "Generating 63 of 88 models.     \n",
      "Generating 64 of 88 models.     \n",
      "Generating 65 of 88 models.     \n",
      "Generating 66 of 88 models.     \n",
      "Generating 67 of 88 models.     \n",
      "Generating 68 of 88 models.     \n",
      "Generating 69 of 88 models.     \n",
      "Generating 70 of 88 models.     \n",
      "Generating 71 of 88 models.     \n",
      "Generating 72 of 88 models.     \n",
      "Generating 73 of 88 models.     \n",
      "Generating 74 of 88 models.     \n",
      "Generating 75 of 88 models.     \n",
      "Generating 76 of 88 models.     \n",
      "Generating 77 of 88 models.     \n",
      "Generating 78 of 88 models.     \n",
      "Generating 79 of 88 models.     \n",
      "Generating 80 of 88 models.     \n",
      "Generating 81 of 88 models.     \n",
      "Generating 82 of 88 models.     \n",
      "Generating 83 of 88 models.     \n",
      "Generating 84 of 88 models.     \n",
      "Generating 85 of 88 models.     \n",
      "Generating 86 of 88 models.     \n",
      "Generating 87 of 88 models.     \n",
      "Generating 88 of 88 models.     \n"
     ]
    }
   ],
   "source": [
    "model_number, model_info, model_results = model.rfe_decision_tree(train,\n",
    "                                                                  validate, \n",
    "                                                                  target, \n",
    "                                                                  positive, \n",
    "                                                                  model_number, \n",
    "                                                                  model_info, \n",
    "                                                                  model_results)"
   ]
  },
  {
   "cell_type": "markdown",
   "id": "0b9ee2f3",
   "metadata": {},
   "source": [
    "### RFE Random Forest"
   ]
  },
  {
   "cell_type": "code",
   "execution_count": null,
   "id": "30c94618",
   "metadata": {},
   "outputs": [
    {
     "name": "stdout",
     "output_type": "stream",
     "text": [
      "Generating 1 of 99 models.     \n",
      "88\n",
      "Generating 2 of 99 models.     \n",
      "89\n",
      "Generating 3 of 99 models.     \n",
      "90\n",
      "Generating 4 of 99 models.     \n",
      "91\n",
      "Generating 5 of 99 models.     \n",
      "92\n",
      "Generating 6 of 99 models.     \n",
      "93\n",
      "Generating 7 of 99 models.     \n"
     ]
    }
   ],
   "source": [
    "model_number, model_info, model_results = model.rfe_random_forest(train,\n",
    "                                                                  validate, \n",
    "                                                                  target, \n",
    "                                                                  positive, \n",
    "                                                                  model_number, \n",
    "                                                                  model_info, \n",
    "                                                                  model_results)"
   ]
  },
  {
   "cell_type": "markdown",
   "id": "2b407746",
   "metadata": {},
   "source": [
    "### RFE Logistic Regression"
   ]
  },
  {
   "cell_type": "code",
   "execution_count": null,
   "id": "e21b5a11",
   "metadata": {},
   "outputs": [],
   "source": [
    "model_number, model_info, model_results = model.rfe_log_regression(train,\n",
    "                                                                  validate, \n",
    "                                                                  target, \n",
    "                                                                  positive, \n",
    "                                                                  model_number, \n",
    "                                                                  model_info, \n",
    "                                                                  model_results)"
   ]
  },
  {
   "cell_type": "code",
   "execution_count": null,
   "id": "37b7135b",
   "metadata": {},
   "outputs": [],
   "source": [
    "model.display_model_results(model_results)"
   ]
  },
  {
   "cell_type": "code",
   "execution_count": null,
   "id": "99d1643c",
   "metadata": {},
   "outputs": [],
   "source": [
    "model.display_model_results(model_results[model_results.model_number == 'baseline'])"
   ]
  },
  {
   "cell_type": "code",
   "execution_count": null,
   "id": "9381ffc3",
   "metadata": {},
   "outputs": [],
   "source": [
    "model.display_model_results(model.get_best_model_results(model_results))"
   ]
  },
  {
   "cell_type": "code",
   "execution_count": null,
   "id": "bac8b5d7",
   "metadata": {},
   "outputs": [],
   "source": [
    "model_info[model_info.model_number.isin([32, 59, 60])]"
   ]
  },
  {
   "cell_type": "code",
   "execution_count": null,
   "id": "2dc17fdc",
   "metadata": {},
   "outputs": [],
   "source": [
    "for model_num in [32, 59, 60]:\n",
    "    print(f'Model #{model_num} Features:')\n",
    "    print('-' * 20)\n",
    "    for feature in model_info[model_info.model_number == model_num].features.values[0]:\n",
    "        print(feature)\n",
    "    print()\n",
    "          "
   ]
  },
  {
   "cell_type": "code",
   "execution_count": null,
   "id": "7aa6331c",
   "metadata": {},
   "outputs": [],
   "source": []
  }
 ],
 "metadata": {
  "kernelspec": {
   "display_name": "Python 3 (ipykernel)",
   "language": "python",
   "name": "python3"
  },
  "language_info": {
   "codemirror_mode": {
    "name": "ipython",
    "version": 3
   },
   "file_extension": ".py",
   "mimetype": "text/x-python",
   "name": "python",
   "nbconvert_exporter": "python",
   "pygments_lexer": "ipython3",
   "version": "3.9.7"
  }
 },
 "nbformat": 4,
 "nbformat_minor": 5
}
