{
 "cells": [
  {
   "cell_type": "code",
   "execution_count": 1,
   "id": "45a85bda",
   "metadata": {},
   "outputs": [],
   "source": [
    "import pandas as pd\n",
    "import warnings\n",
    "warnings.filterwarnings('ignore')\n",
    "\n",
    "pd.set_option('display.max_columns', 100)\n",
    "pd.set_option('display.precision', 3)\n",
    "pd.option_context('display.max_rows', 50)\n",
    "\n",
    "import prepare\n",
    "import explore\n",
    "import model\n",
    "\n",
    "random_state = 42"
   ]
  },
  {
   "cell_type": "markdown",
   "id": "a99c4285",
   "metadata": {},
   "source": [
    "# Acquisition"
   ]
  },
  {
   "cell_type": "markdown",
   "id": "316e8a67",
   "metadata": {},
   "source": [
    "This data was obtained from the City of Austin's open data portal at data.austintexas.gov. The data is published by the city's Animal Services department and updated on an hourly basis. The data available for this analysis represents all animals taken into the shelter from 10/01/2013 - 03/04/2022.\n",
    "\n",
    "AAC publishes two separate dataset: \"Intakes\" and \"Outcomes\". These datasets were combined to perform this analysis.\n",
    "\n",
    "From AAC: \n",
    "        \n",
    "        \"Intakes represent the status of animals as they arrive at the Animal Center. All animals receive a unique Animal ID during intake.\"\n",
    "\n",
    "        \"Outcomes represent the status of animals as they leave the Animal Center... Annually over 90% of animals entering the center, are adopted, transferred to rescue or returned to their owners. The Outcomes data set reflects that Austin, TX. is the largest \"No Kill\" city in the country."
   ]
  },
  {
   "cell_type": "markdown",
   "id": "d95b19de",
   "metadata": {},
   "source": [
    "Here, I acquire cached versions of the dataset from my working directory."
   ]
  },
  {
   "cell_type": "code",
   "execution_count": 2,
   "id": "261245b8",
   "metadata": {},
   "outputs": [],
   "source": [
    "# read CSV's into pandas from the local directory\n",
    "intakes = pd.read_csv('aac_intakes_20220304.csv')\n",
    "outcomes = pd.read_csv('aac_outcomes_20220304.csv')"
   ]
  },
  {
   "cell_type": "markdown",
   "id": "91596e79",
   "metadata": {},
   "source": [
    "# Preparation"
   ]
  },
  {
   "cell_type": "markdown",
   "id": "e1df9389",
   "metadata": {},
   "source": [
    "I cleaned and prepped the data by creating a function that:\n",
    "\n",
    "- renamed columns for convenience and legibility\n",
    "- dropped outcomes that didn't have a corresponding intake, and vis-versa\n",
    "- converted the datetime columns to pandas datetime types\n",
    "- added information about how many times the animal had been seen previously at the shelter\n",
    "- added a unique identifier for each time the animal had been seen at the shelter (stay_id)\n",
    "- joined the intakes and outcomes dataframes into one dataframe using the 'stay_id' identifier\n",
    "- dropped variables (except for outcome type) from the original 'outcomes' dataframe, since - by definition - they cannot be drivers of the outcome type. \n",
    "- extracted the month from the datetime_intake column to represent the time of year the animal was brought into the shelter\n",
    "- split the sex_upon_intake column into fixed = True/False and sex = male/female, then dropped the original sex_upon_intake column\n",
    "- split the original breed column into 'breed_mixed', 'breed_1, and - if there were multiple breeds listed, 'breed_2' and 'breed_3', then dropped the original breed column\n",
    "- split the color description into multiple columns (color_1, color_2, color_3) when there was more than one color listed, then drop the original color column\n",
    "- convert the age column from a string into pandas timedelta (number of days)\n",
    "- create a boolean column 'found_in_austin' based on whether the string value for found_location includes 'Austin (TX)' \n",
    "- create a boolean column 'found_in_travis' based on whether the string value for found_location includes 'Travis (TX)'\n",
    "- create a boolean column 'found_outside_jurisdiction' based on whether found location string value includes 'Outside Jurisdiction'\n",
    "- create a boolean column 'is_pitbull' based on whether 'breed_1' includes 'Pit Bull'\n",
    "- create a boolean column 'is_black' based on whether 'color_1' includes 'Black'\n",
    "- create a column 'akc_breed_group' that uses a dictionary to map each unique value found in the breed_1 column to that breed's group as defined by the American Kennel Club\n",
    "- drops columns not used for modeling in this analysis\n",
    "- filters rows to focus on only the most common outcome types: 'Adoption' and 'Transfer'\n",
    "\n",
    "Then used an additional function to filter the dataset for only the dogs (using animal_type == 'Dog')\n",
    "\n",
    "Missing values: There were no missing values in the original dataset, though my feature engineering process did create some columns that contained significant numbers of missing values. These columns were ultimately dropped and not used in this analysis. "
   ]
  },
  {
   "cell_type": "code",
   "execution_count": 3,
   "id": "246d6e6f",
   "metadata": {},
   "outputs": [],
   "source": [
    "# call the functions from the prepare module that \n",
    "# perform the steps listed above\n",
    "df = prepare.aac_prep(intakes, outcomes)\n",
    "df = prepare.aac_get_dogs(df)"
   ]
  },
  {
   "cell_type": "code",
   "execution_count": 4,
   "id": "e9ef7fd1",
   "metadata": {},
   "outputs": [],
   "source": [
    "# identify the target column and the positive condition label\n",
    "target = 'outcome_type'\n",
    "positive = 'Adoption'"
   ]
  },
  {
   "cell_type": "markdown",
   "id": "afedcad8",
   "metadata": {},
   "source": [
    "### Split the Data"
   ]
  },
  {
   "cell_type": "code",
   "execution_count": 5,
   "id": "74cfdad8",
   "metadata": {},
   "outputs": [
    {
     "name": "stdout",
     "output_type": "stream",
     "text": [
      "train\t n = 29963\n",
      "validate n = 12842\n",
      "test\t n = 10702\n"
     ]
    }
   ],
   "source": [
    "# call the function from the prepare module that splits data into 3 samples\n",
    "train, validate, test = prepare.train_validate_test_split(df)"
   ]
  },
  {
   "cell_type": "markdown",
   "id": "e03236f4",
   "metadata": {},
   "source": [
    "# Exploration"
   ]
  },
  {
   "cell_type": "markdown",
   "id": "d386703f",
   "metadata": {},
   "source": [
    "### Exploration - Initial Questions\n",
    "(for the statistical significance testing of the findings in this section, please visit the explore_notebook.ipynb)"
   ]
  },
  {
   "cell_type": "markdown",
   "id": "b76123f0",
   "metadata": {},
   "source": [
    "#### Are pit bulls adopted at lower rates than other dogs?\n",
    "\n",
    "It is a common understanding that pit bull-type dogs are less desirable as pets than other dogs and are adopted from shelters at lower rates. Let's see if this holds true in our data set"
   ]
  },
  {
   "cell_type": "code",
   "execution_count": 6,
   "id": "6a4a7b8c",
   "metadata": {},
   "outputs": [
    {
     "data": {
      "image/png": "[encoded data removed]",
      "text/plain": [
       "<Figure size 864x576 with 1 Axes>"
      ]
     },
     "metadata": {
      "needs_background": "light"
     },
     "output_type": "display_data"
    }
   ],
   "source": [
    "# create a seaborn barplot of adoption rates by is_pitbull\n",
    "explore.plot_pitbulls(train)"
   ]
  },
  {
   "cell_type": "markdown",
   "id": "fd76234c",
   "metadata": {},
   "source": [
    "It seems that pitbulls are actually adopted at a similar - perhaps even slightly higher - rate than other dogs in Austin. "
   ]
  },
  {
   "cell_type": "markdown",
   "id": "346655ce",
   "metadata": {},
   "source": [
    "#### Are black dogs adopted at lower rates than other dogs?\n",
    "\n",
    "It is a common understanding that black dogs are also adopted from shelters at lower rates than other dogs. Does this hold true in Austin?"
   ]
  },
  {
   "cell_type": "code",
   "execution_count": 7,
   "id": "64d52ab2",
   "metadata": {},
   "outputs": [
    {
     "data": {
      "image/png": "[encoded data removed]",
      "text/plain": [
       "<Figure size 864x576 with 1 Axes>"
      ]
     },
     "metadata": {
      "needs_background": "light"
     },
     "output_type": "display_data"
    }
   ],
   "source": [
    "# create a seaborn barplot of adoption rate by is_black\n",
    "explore.plot_black_dogs(train)"
   ]
  },
  {
   "cell_type": "markdown",
   "id": "afda165c",
   "metadata": {},
   "source": [
    "Again, it seems that the common understanding may be false, as black dogs appear to be adopted at similar - and perhaps higher - rates than other dogs in Austin."
   ]
  },
  {
   "cell_type": "markdown",
   "id": "8468074a",
   "metadata": {},
   "source": [
    "#### What differences exist in adoption rates among the AKC breed groups¶\n"
   ]
  },
  {
   "cell_type": "code",
   "execution_count": 8,
   "id": "97510438",
   "metadata": {},
   "outputs": [
    {
     "data": {
      "image/png": "[encoded data removed]",
      "text/plain": [
       "<Figure size 864x576 with 1 Axes>"
      ]
     },
     "metadata": {
      "needs_background": "light"
     },
     "output_type": "display_data"
    }
   ],
   "source": [
    "# create a seaborn barplot of adoption rate by akc_breed_group\n",
    "explore.plot_breed_groups(train)"
   ]
  },
  {
   "cell_type": "markdown",
   "id": "0e30c7ea",
   "metadata": {},
   "source": [
    "Adoption rates appear relatively similar among the groups, with exceptions of the Toy Group and the Non-Sporting group, as these appear to be significantly lower. Are these differences significant?"
   ]
  },
  {
   "cell_type": "markdown",
   "id": "e2191469",
   "metadata": {},
   "source": [
    "#### How does intake condition affect adoption rate?¶\n"
   ]
  },
  {
   "cell_type": "code",
   "execution_count": 9,
   "id": "cce4a431",
   "metadata": {},
   "outputs": [
    {
     "data": {
      "image/png": "[encoded data removed]",
      "text/plain": [
       "<Figure size 864x576 with 1 Axes>"
      ]
     },
     "metadata": {
      "needs_background": "light"
     },
     "output_type": "display_data"
    }
   ],
   "source": [
    "# create a seaborn barplot of adoption rate by intake condition normal\n",
    "explore.plot_normal_condition(train)"
   ]
  },
  {
   "cell_type": "markdown",
   "id": "87263b34",
   "metadata": {},
   "source": [
    "Normal condition dogs appear to be a adopted at much higher rates than other dogs, as might be expected"
   ]
  },
  {
   "cell_type": "markdown",
   "id": "5fc13fc4",
   "metadata": {},
   "source": [
    "### Exploration: Summary"
   ]
  },
  {
   "cell_type": "markdown",
   "id": "e3edd4b2",
   "metadata": {},
   "source": [
    "The exploration above shows that there may be some public misunderstanding about which dogs are desirable to adopt from shelters, at least in Austin, TX. They also show that breed and color may be less useful as predictors than might be expected, since adoption rates appear to be similar among the categories we examined. \n",
    "\n",
    "This doesn't mean that we will leave these features out of our modeling though, since we will use Recursive Feature Engineering algorithms to automatically select which features (out of nearly all available features) have the most predictive utility. "
   ]
  },
  {
   "cell_type": "markdown",
   "id": "c21b0074",
   "metadata": {},
   "source": [
    "# Modeling"
   ]
  },
  {
   "cell_type": "markdown",
   "id": "86ace86e",
   "metadata": {},
   "source": [
    "In this section, I used all the features that were created or maintained in the preparation section to feed into Recursive Feature Engineering algorithms and then created Decision Tree, Random Forest, and Logistic Regression algorithms using the selected sets of features and varying hyperparameters. \n",
    "\n",
    "I created 264 unique models that varied the number of features selected and the values for the appropriate hyperparameters for that model type. \n",
    "\n",
    "I stored information about each of the models' performance and parameters as dataframes, and cached those dataframes as CSV's on my local drive. \n",
    "\n",
    "To prevent redoing the time-consuming computation required to create those models, I will use the cached data to display information about model performance below. \n",
    "\n",
    "(to recreate the modeling that produced the CSV's, please see model.py and/or model_notebook.ipynb)"
   ]
  },
  {
   "cell_type": "code",
   "execution_count": 10,
   "id": "796f5f50",
   "metadata": {},
   "outputs": [],
   "source": [
    "# read model_info and model_results CSV's into pandas from the local directory\n",
    "model_info = pd.read_csv('model_info_1.csv').drop(columns='Unnamed: 0')\n",
    "model_results = pd.read_csv('model_results_1.csv').drop(columns='Unnamed: 0')"
   ]
  },
  {
   "cell_type": "markdown",
   "id": "6326c567",
   "metadata": {},
   "source": [
    "First, I created baseline predictions using the most common outcome type ('Adoption') and evaluated the performance of those predictions:"
   ]
  },
  {
   "cell_type": "code",
   "execution_count": 11,
   "id": "668e1174",
   "metadata": {},
   "outputs": [
    {
     "data": {
      "text/html": [
       "<div>\n",
       "<style scoped>\n",
       "    .dataframe tbody tr th:only-of-type {\n",
       "        vertical-align: middle;\n",
       "    }\n",
       "\n",
       "    .dataframe tbody tr th {\n",
       "        vertical-align: top;\n",
       "    }\n",
       "\n",
       "    .dataframe thead th {\n",
       "        text-align: right;\n",
       "    }\n",
       "</style>\n",
       "<table border=\"1\" class=\"dataframe\">\n",
       "  <thead>\n",
       "    <tr style=\"text-align: right;\">\n",
       "      <th></th>\n",
       "      <th>model_number</th>\n",
       "      <th>baseline</th>\n",
       "    </tr>\n",
       "    <tr>\n",
       "      <th>metric_type</th>\n",
       "      <th>sample_type</th>\n",
       "      <th></th>\n",
       "    </tr>\n",
       "  </thead>\n",
       "  <tbody>\n",
       "    <tr>\n",
       "      <th rowspan=\"2\" valign=\"top\">accuracy</th>\n",
       "      <th>train</th>\n",
       "      <td>0.688</td>\n",
       "    </tr>\n",
       "    <tr>\n",
       "      <th>validate</th>\n",
       "      <td>0.688</td>\n",
       "    </tr>\n",
       "    <tr>\n",
       "      <th rowspan=\"2\" valign=\"top\">f1_score</th>\n",
       "      <th>train</th>\n",
       "      <td>0.815</td>\n",
       "    </tr>\n",
       "    <tr>\n",
       "      <th>validate</th>\n",
       "      <td>0.815</td>\n",
       "    </tr>\n",
       "    <tr>\n",
       "      <th rowspan=\"2\" valign=\"top\">precision</th>\n",
       "      <th>train</th>\n",
       "      <td>0.688</td>\n",
       "    </tr>\n",
       "    <tr>\n",
       "      <th>validate</th>\n",
       "      <td>0.688</td>\n",
       "    </tr>\n",
       "    <tr>\n",
       "      <th rowspan=\"2\" valign=\"top\">recall</th>\n",
       "      <th>train</th>\n",
       "      <td>1.000</td>\n",
       "    </tr>\n",
       "    <tr>\n",
       "      <th>validate</th>\n",
       "      <td>1.000</td>\n",
       "    </tr>\n",
       "  </tbody>\n",
       "</table>\n",
       "</div>"
      ],
      "text/plain": [
       "model_number             baseline\n",
       "metric_type sample_type          \n",
       "accuracy    train           0.688\n",
       "            validate        0.688\n",
       "f1_score    train           0.815\n",
       "            validate        0.815\n",
       "precision   train           0.688\n",
       "            validate        0.688\n",
       "recall      train           1.000\n",
       "            validate        1.000"
      ]
     },
     "execution_count": 11,
     "metadata": {},
     "output_type": "execute_result"
    }
   ],
   "source": [
    "# display baseline results\n",
    "model.display_model_results(model_results[model_results.model_number == 'baseline'])"
   ]
  },
  {
   "cell_type": "markdown",
   "id": "dd877663",
   "metadata": {},
   "source": [
    "I then looked at the models which peformed with the highest accuracy on the validate set.\n",
    "\n",
    "(without any specific goals in mind as to the use case for this model, the accuracy metric provides a balanced look at the performance of the model, and is a reasonable choice since the outcomes are not weighted too far to one category or the other).\n",
    "\n",
    "The top 3 models are shown below:"
   ]
  },
  {
   "cell_type": "code",
   "execution_count": 12,
   "id": "2e4402cd",
   "metadata": {},
   "outputs": [
    {
     "data": {
      "text/html": [
       "<div>\n",
       "<style scoped>\n",
       "    .dataframe tbody tr th:only-of-type {\n",
       "        vertical-align: middle;\n",
       "    }\n",
       "\n",
       "    .dataframe tbody tr th {\n",
       "        vertical-align: top;\n",
       "    }\n",
       "\n",
       "    .dataframe thead th {\n",
       "        text-align: right;\n",
       "    }\n",
       "</style>\n",
       "<table border=\"1\" class=\"dataframe\">\n",
       "  <thead>\n",
       "    <tr style=\"text-align: right;\">\n",
       "      <th></th>\n",
       "      <th>model_number</th>\n",
       "      <th>178</th>\n",
       "      <th>186</th>\n",
       "      <th>187</th>\n",
       "    </tr>\n",
       "    <tr>\n",
       "      <th>metric_type</th>\n",
       "      <th>sample_type</th>\n",
       "      <th></th>\n",
       "      <th></th>\n",
       "      <th></th>\n",
       "    </tr>\n",
       "  </thead>\n",
       "  <tbody>\n",
       "    <tr>\n",
       "      <th rowspan=\"2\" valign=\"top\">accuracy</th>\n",
       "      <th>train</th>\n",
       "      <td>0.724</td>\n",
       "      <td>0.720</td>\n",
       "      <td>0.725</td>\n",
       "    </tr>\n",
       "    <tr>\n",
       "      <th>validate</th>\n",
       "      <td>0.713</td>\n",
       "      <td>0.713</td>\n",
       "      <td>0.713</td>\n",
       "    </tr>\n",
       "    <tr>\n",
       "      <th rowspan=\"2\" valign=\"top\">f1_score</th>\n",
       "      <th>train</th>\n",
       "      <td>0.830</td>\n",
       "      <td>0.828</td>\n",
       "      <td>0.830</td>\n",
       "    </tr>\n",
       "    <tr>\n",
       "      <th>validate</th>\n",
       "      <td>0.823</td>\n",
       "      <td>0.824</td>\n",
       "      <td>0.823</td>\n",
       "    </tr>\n",
       "    <tr>\n",
       "      <th rowspan=\"2\" valign=\"top\">precision</th>\n",
       "      <th>train</th>\n",
       "      <td>0.721</td>\n",
       "      <td>0.717</td>\n",
       "      <td>0.722</td>\n",
       "    </tr>\n",
       "    <tr>\n",
       "      <th>validate</th>\n",
       "      <td>0.715</td>\n",
       "      <td>0.714</td>\n",
       "      <td>0.715</td>\n",
       "    </tr>\n",
       "    <tr>\n",
       "      <th rowspan=\"2\" valign=\"top\">recall</th>\n",
       "      <th>train</th>\n",
       "      <td>0.977</td>\n",
       "      <td>0.978</td>\n",
       "      <td>0.977</td>\n",
       "    </tr>\n",
       "    <tr>\n",
       "      <th>validate</th>\n",
       "      <td>0.970</td>\n",
       "      <td>0.974</td>\n",
       "      <td>0.969</td>\n",
       "    </tr>\n",
       "  </tbody>\n",
       "</table>\n",
       "</div>"
      ],
      "text/plain": [
       "model_number               178    186    187\n",
       "metric_type sample_type                     \n",
       "accuracy    train        0.724  0.720  0.725\n",
       "            validate     0.713  0.713  0.713\n",
       "f1_score    train        0.830  0.828  0.830\n",
       "            validate     0.823  0.824  0.823\n",
       "precision   train        0.721  0.717  0.722\n",
       "            validate     0.715  0.714  0.715\n",
       "recall      train        0.977  0.978  0.977\n",
       "            validate     0.970  0.974  0.969"
      ]
     },
     "execution_count": 12,
     "metadata": {},
     "output_type": "execute_result"
    }
   ],
   "source": [
    "# display results for the top 3 models\n",
    "model.display_model_results(model.get_best_model_results(model_results))"
   ]
  },
  {
   "cell_type": "code",
   "execution_count": 13,
   "id": "48c08285",
   "metadata": {},
   "outputs": [
    {
     "data": {
      "text/html": [
       "<div>\n",
       "<style scoped>\n",
       "    .dataframe tbody tr th:only-of-type {\n",
       "        vertical-align: middle;\n",
       "    }\n",
       "\n",
       "    .dataframe tbody tr th {\n",
       "        vertical-align: top;\n",
       "    }\n",
       "\n",
       "    .dataframe thead th {\n",
       "        text-align: right;\n",
       "    }\n",
       "</style>\n",
       "<table border=\"1\" class=\"dataframe\">\n",
       "  <thead>\n",
       "    <tr style=\"text-align: right;\">\n",
       "      <th></th>\n",
       "      <th>model_type</th>\n",
       "      <th>features</th>\n",
       "      <th>max_depth</th>\n",
       "      <th>min_samples_leaf</th>\n",
       "    </tr>\n",
       "  </thead>\n",
       "  <tbody>\n",
       "    <tr>\n",
       "      <th>178</th>\n",
       "      <td>random forest</td>\n",
       "      <td>['enc_fixed_unknown', 'enc_breed_mixed_True', ...</td>\n",
       "      <td>10.0</td>\n",
       "      <td>2.0</td>\n",
       "    </tr>\n",
       "    <tr>\n",
       "      <th>186</th>\n",
       "      <td>random forest</td>\n",
       "      <td>['enc_fixed_unknown', 'enc_breed_mixed_True', ...</td>\n",
       "      <td>9.0</td>\n",
       "      <td>2.0</td>\n",
       "    </tr>\n",
       "    <tr>\n",
       "      <th>187</th>\n",
       "      <td>random forest</td>\n",
       "      <td>['enc_fixed_unknown', 'enc_breed_mixed_True', ...</td>\n",
       "      <td>10.0</td>\n",
       "      <td>2.0</td>\n",
       "    </tr>\n",
       "  </tbody>\n",
       "</table>\n",
       "</div>"
      ],
      "text/plain": [
       "        model_type                                           features  \\\n",
       "178  random forest  ['enc_fixed_unknown', 'enc_breed_mixed_True', ...   \n",
       "186  random forest  ['enc_fixed_unknown', 'enc_breed_mixed_True', ...   \n",
       "187  random forest  ['enc_fixed_unknown', 'enc_breed_mixed_True', ...   \n",
       "\n",
       "     max_depth  min_samples_leaf  \n",
       "178       10.0               2.0  \n",
       "186        9.0               2.0  \n",
       "187       10.0               2.0  "
      ]
     },
     "execution_count": 13,
     "metadata": {},
     "output_type": "execute_result"
    }
   ],
   "source": [
    "# display info about the top 3 models\n",
    "model_info[model_info.model_number.isin(['178', '186', '187'])].drop(columns=['c_value', 'model_number'])"
   ]
  },
  {
   "cell_type": "markdown",
   "id": "4cf78d3a",
   "metadata": {},
   "source": [
    "The three models perform with nearly the same level of accuracy on the validate set. However, Model # 178 is a slightly simpler model, using 11 features instead of the 12 used in the other two.\n",
    "\n",
    "For this reason, I selected model # 178 to move forward to the final test phase."
   ]
  },
  {
   "cell_type": "markdown",
   "id": "0eb25039",
   "metadata": {},
   "source": [
    "### Modeling - Final Test"
   ]
  },
  {
   "cell_type": "markdown",
   "id": "66fd398e",
   "metadata": {},
   "source": [
    "Here, I evaluate model # 178's accuracy on the test sample, simulating how it might perform if used on future data in the real-world."
   ]
  },
  {
   "cell_type": "code",
   "execution_count": 14,
   "id": "9182d43b",
   "metadata": {},
   "outputs": [
    {
     "name": "stdout",
     "output_type": "stream",
     "text": [
      "train\t n = 29963\n",
      "validate n = 12842\n",
      "test\t n = 10702\n"
     ]
    }
   ],
   "source": [
    "# add encoded columns\n",
    "df = prepare.aac_prep_for_modeling(df)\n",
    "# then re-split for modeling (random state inside the function makes the split repeatable)\n",
    "train, validate, test = prepare.train_validate_test_split(df)\n",
    "# then add scaled columns\n",
    "train, validate, test = prepare.scale_aac(train, validate, test)"
   ]
  },
  {
   "cell_type": "code",
   "execution_count": 15,
   "id": "6680fc6f",
   "metadata": {},
   "outputs": [
    {
     "data": {
      "text/html": [
       "<div>\n",
       "<style scoped>\n",
       "    .dataframe tbody tr th:only-of-type {\n",
       "        vertical-align: middle;\n",
       "    }\n",
       "\n",
       "    .dataframe tbody tr th {\n",
       "        vertical-align: top;\n",
       "    }\n",
       "\n",
       "    .dataframe thead th {\n",
       "        text-align: right;\n",
       "    }\n",
       "</style>\n",
       "<table border=\"1\" class=\"dataframe\">\n",
       "  <thead>\n",
       "    <tr style=\"text-align: right;\">\n",
       "      <th></th>\n",
       "      <th>model_number</th>\n",
       "      <th>sample_type</th>\n",
       "      <th>metric_type</th>\n",
       "      <th>score</th>\n",
       "    </tr>\n",
       "  </thead>\n",
       "  <tbody>\n",
       "    <tr>\n",
       "      <th>0</th>\n",
       "      <td>178.0</td>\n",
       "      <td>test</td>\n",
       "      <td>accuracy</td>\n",
       "      <td>0.706</td>\n",
       "    </tr>\n",
       "    <tr>\n",
       "      <th>1</th>\n",
       "      <td>178.0</td>\n",
       "      <td>test</td>\n",
       "      <td>precision</td>\n",
       "      <td>0.708</td>\n",
       "    </tr>\n",
       "    <tr>\n",
       "      <th>2</th>\n",
       "      <td>178.0</td>\n",
       "      <td>test</td>\n",
       "      <td>recall</td>\n",
       "      <td>0.970</td>\n",
       "    </tr>\n",
       "    <tr>\n",
       "      <th>3</th>\n",
       "      <td>178.0</td>\n",
       "      <td>test</td>\n",
       "      <td>f1_score</td>\n",
       "      <td>0.818</td>\n",
       "    </tr>\n",
       "  </tbody>\n",
       "</table>\n",
       "</div>"
      ],
      "text/plain": [
       "   model_number sample_type metric_type  score\n",
       "0         178.0        test    accuracy  0.706\n",
       "1         178.0        test   precision  0.708\n",
       "2         178.0        test      recall  0.970\n",
       "3         178.0        test    f1_score  0.818"
      ]
     },
     "execution_count": 15,
     "metadata": {},
     "output_type": "execute_result"
    }
   ],
   "source": [
    "# recreate model 178 and return info about its performance\n",
    "model.test_model_178(train, test, target, positive)"
   ]
  },
  {
   "cell_type": "markdown",
   "id": "1d8b5902",
   "metadata": {},
   "source": [
    "#### Model Performance"
   ]
  },
  {
   "cell_type": "markdown",
   "id": "849f2f53",
   "metadata": {},
   "source": [
    "The model peforms with 70.6% accuracy on the test sample, which is a 1.8 point increase over our baseline accuracy of 68.8%."
   ]
  },
  {
   "cell_type": "markdown",
   "id": "fc36eb24",
   "metadata": {},
   "source": [
    "### Key Findings\n",
    "\n",
    "The following features were automatically selected by the RFE algorithms as the most important features in our selected model:\n",
    "- whether or not the dog's spayed/neutered status was unknown\n",
    "- whether the breed was mixed\n",
    "- whether the intake type was a Public Assist\n",
    "- whether the intake condition was Normal\n",
    "- whether the intake condition was Sick\n",
    "- whether the intake month was September\n",
    "- whether the dog's sex was unknown\n",
    "- whether the dog's primary breed was contained in the top 10 most common breeds\n",
    "- whether the dog was in the Toy breed group\n",
    "- whether the dog was found inside Austin city limits\n",
    "- the age of the dog\n",
    "\n",
    "Some additional exploration could tell us whether these factors increased or decreased the odds of the dog's being adopted. "
   ]
  },
  {
   "cell_type": "markdown",
   "id": "39a785ef",
   "metadata": {},
   "source": [
    "### Recommendations/Next Steps\n",
    "\n",
    "Since I did not find significant predictive capability in my analysis, I don't have any specific recommendations for AAC at this time. However, there is a lot of interesting potential in this dataset. Some things I would like to do in the future include: \n",
    "\n",
    "1. Start by predicting whether a dog would be returned to it's owner, using Outcome Type == 'Return to Owner' as a target. From there, we could do some additional analysis to predict which dogs would be adopted. This might be a more useful prediction. \n",
    "\n",
    "2. Acquiring some domain knowledge about which animals are chosen for transfer and why could steer future analysis in more useful directions. I'd like to send an email inquiry to AAC officials to learn more about their processes. \n",
    "\n",
    "3. There is much more granular data available about the location where the animal was found that was not used in this analysis. I would like to use the Google Maps API to obtain more precise location info, then create additional features for modeling using zip codes, neighborhoods, or clustering algorithms. I suspect location information would prove valuable for predicting whether a dog would be returned to it's owner. \n",
    "\n",
    "4. Additional breed groupings could also prove useful for predictions. I would like to engineer additional features using varying categorizations such as whether the dog is considered to be:\n",
    "    -  family friendly\n",
    "    -   intelligent\n",
    "    -   loyal\n",
    "    -   etc\n",
    "    \n",
    "    The AKC maintains some lists like this that could be used to match individual breeds to a category. \n",
    "\n",
    "5. I would lso like to create more robust and interesting visualizations that would appeal to a public audience. Some of these might include: \n",
    "    - heat map of found_location\n",
    "    - information about which breeds/breed categories are most common\n",
    "    - which breeds/breed categories are adopted most frequently\n",
    "    - which colors/color categories are most common/adopted most frequently\n",
    "    - etc.\n",
    "\n",
    "\n"
   ]
  }
 ],
 "metadata": {
  "kernelspec": {
   "display_name": "Python 3 (ipykernel)",
   "language": "python",
   "name": "python3"
  },
  "language_info": {
   "codemirror_mode": {
    "name": "ipython",
    "version": 3
   },
   "file_extension": ".py",
   "mimetype": "text/x-python",
   "name": "python",
   "nbconvert_exporter": "python",
   "pygments_lexer": "ipython3",
   "version": "3.9.7"
  }
 },
 "nbformat": 4,
 "nbformat_minor": 5
}
